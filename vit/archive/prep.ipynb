{
 "cells": [
  {
   "cell_type": "code",
   "execution_count": null,
   "metadata": {},
   "outputs": [],
   "source": [
    "# This cell reads in the downloaded stuff and creates a single uncompressed zarr containing all of the given data so that we can easily use it later.\n",
    "#TODO: xarray is bottleneck during training since its too slow (single-threaded loading) so all the shit deadlocks, we should make that better by decompressing to numpy arrays.\n",
    "import xarray as xr\n",
    "from ocf_blosc2 import Blosc2\n",
    "# sat-nonhrv\n",
    "sat = xr.open_dataset(\n",
    "    \"/data/satellite-nonhrv/2021/1.zarr.zip\", engine=\"zarr\", chunks=\"auto\"\n",
    ")\n",
    "for month in range(2, 13):\n",
    "    sat2 = xr.open_dataset(\n",
    "        f\"/data/satellite-nonhrv/2021/{month}.zarr.zip\", engine=\"zarr\", chunks=\"auto\"\n",
    "    )\n",
    "    sat = xr.concat((sat, sat2), dim=\"time\")\n",
    "sat = sat.chunk(chunks={\"time\": \"auto\"})\n",
    "sat.to_zarr(\"/data/satellite-nonhrv_concat/2021.zarr\")\n",
    "# weather\n",
    "NWP_FEATURES = [\n",
    "    \"t_500\", \"clcl\", \"alb_rad\", \"tot_prec\", \"ww\",\n",
    "    \"relhum_2m\", \"h_snow\", \"aswdir_s\", \"td_2m\", \"omega_1000\"\n",
    "]\n",
    "\n",
    "datasets = []\n",
    "for month in range(1, 13):\n",
    "    dataset = xr.open_dataset(\n",
    "        f\"/data/weather/2021/{month}.zarr.zip\", engine=\"zarr\", chunks=\"auto\"\n",
    "    )\n",
    "    dataset = dataset[NWP_FEATURES]\n",
    "    datasets.append(dataset)\n",
    "data = xr.concat(datasets, dim=\"time\")\n",
    "data = data.chunk(chunks={\"time\": \"auto\"})\n",
    "data.to_zarr(\"/data/weather_concat/2021.zarr\")\n"
   ]
  }
 ],
 "metadata": {
  "kernelspec": {
   "display_name": "Python 3 (ipykernel)",
   "language": "python",
   "name": "python3"
  },
  "language_info": {
   "codemirror_mode": {
    "name": "ipython",
    "version": 3
   },
   "file_extension": ".py",
   "mimetype": "text/x-python",
   "name": "python",
   "nbconvert_exporter": "python",
   "pygments_lexer": "ipython3",
   "version": "3.11.5"
  }
 },
 "nbformat": 4,
 "nbformat_minor": 4
}
