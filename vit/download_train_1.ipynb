{
 "cells": [
  {
   "cell_type": "code",
   "execution_count": 1,
   "metadata": {},
   "outputs": [
    {
     "name": "stdout",
     "output_type": "stream",
     "text": [
      "Downloading month 1\n"
     ]
    },
    {
     "name": "stderr",
     "output_type": "stream",
     "text": [
      "  % Total    % Received % Xferd  Average Speed   Time    Time     Time  Current\n",
      "                                 Dload  Upload   Total   Spent    Left  Speed\n",
      "100  1118  100  1118    0     0   5769      0 --:--:-- --:--:-- --:--:--  5762\n",
      "100 42.4M  100 42.4M    0     0  40.4M      0  0:00:01  0:00:01 --:--:--     0\n",
      "  % Total    % Received % Xferd  Average Speed   Time    Time     Time  Current\n",
      "                                 Dload  Upload   Total   Spent    Left  Speed\n",
      "100  1196  100  1196    0     0   9245      0 --:--:-- --:--:-- --:--:--  9271\n",
      "100  388M  100  388M    0     0  59.6M      0  0:00:06  0:00:06 --:--:-- 59.9M\n"
     ]
    },
    {
     "name": "stdout",
     "output_type": "stream",
     "text": [
      "Downloading month 2\n"
     ]
    },
    {
     "name": "stderr",
     "output_type": "stream",
     "text": [
      "  % Total    % Received % Xferd  Average Speed   Time    Time     Time  Current\n",
      "                                 Dload  Upload   Total   Spent    Left  Speed\n",
      "100  1132  100  1132    0     0   8869      0 --:--:-- --:--:-- --:--:--  8913\n",
      "100 46.3M  100 46.3M    0     0  36.2M      0  0:00:01  0:00:01 --:--:-- 45.8M\n",
      "  % Total    % Received % Xferd  Average Speed   Time    Time     Time  Current\n",
      "                                 Dload  Upload   Total   Spent    Left  Speed\n",
      "100  1200  100  1200    0     0   8231      0 --:--:-- --:--:-- --:--:--  8219\n",
      "100 2391M  100 2391M    0     0  53.5M      0  0:00:44  0:00:44 --:--:-- 52.4M\n"
     ]
    }
   ],
   "source": [
    "import os\n",
    "for i in range(1, 12 + 1):\n",
    "    print(f\"Downloading month {i}\")\n",
    "    os.system(f\"curl -L https://huggingface.co/datasets/climatehackai/climatehackai-2023/resolve/main/pv/2021/{i}.parquet --output data/pv/2021/{i}.parquet\")\n",
    "    os.system(f\"curl -L https://huggingface.co/datasets/climatehackai/climatehackai-2023/resolve/main/satellite-nonhrv/2021/{i}.zarr.zip --output data/satellite-nonhrv/2021/{i}.zarr.zip\")\n",
    "    os.system(f\"curl -L https://huggingface.co/datasets/climatehackai/climatehackai-2023/resolve/main/weather/2021/{i}.zarr.zip --output data/weather/2021/{i}.zarr.zip\")"
   ]
  },
  {
   "cell_type": "code",
   "execution_count": null,
   "metadata": {},
   "outputs": [],
   "source": []
  }
 ],
 "metadata": {
  "kernelspec": {
   "display_name": "Python 3",
   "language": "python",
   "name": "python3"
  },
  "language_info": {
   "codemirror_mode": {
    "name": "ipython",
    "version": 3
   },
   "file_extension": ".py",
   "mimetype": "text/x-python",
   "name": "python",
   "nbconvert_exporter": "python",
   "pygments_lexer": "ipython3",
   "version": "3.11.5"
  }
 },
 "nbformat": 4,
 "nbformat_minor": 2
}
