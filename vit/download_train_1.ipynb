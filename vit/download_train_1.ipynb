{
 "cells": [
  {
   "cell_type": "code",
   "execution_count": 1,
   "metadata": {},
   "outputs": [
    {
     "name": "stdout",
     "output_type": "stream",
     "text": [
      "Downloading month 1\n"
     ]
    },
    {
     "name": "stderr",
     "output_type": "stream",
     "text": [
      "  % Total    % Received % Xferd  Average Speed   Time    Time     Time  Current\n",
      "                                 Dload  Upload   Total   Spent    Left  Speed\n",
      "  0     0    0     0    0     0      0      0 --:--:-- --:--:-- --:--:--     0"
     ]
    },
    {
     "name": "stderr",
     "output_type": "stream",
     "text": [
      "100  1120  100  1120    0     0   1460      0 --:--:-- --:--:-- --:--:--  1462\n",
      "100 38.3M  100 38.3M    0     0  9596k      0  0:00:04  0:00:04 --:--:-- 15.5M\n",
      "  % Total    % Received % Xferd  Average Speed   Time    Time     Time  Current\n",
      "                                 Dload  Upload   Total   Spent    Left  Speed\n",
      "100  1190  100  1190    0     0   1571      0 --:--:-- --:--:-- --:--:--  1571\n",
      "100 8273M  100 8273M    0     0  32.3M      0  0:04:15  0:04:15 --:--:-- 33.3M\n",
      "  % Total    % Received % Xferd  Average Speed   Time    Time     Time  Current\n",
      "                                 Dload  Upload   Total   Spent    Left  Speed\n",
      "100  1196  100  1196    0     0   2468      0 --:--:-- --:--:-- --:--:--  2476\n",
      "100 3323M  100 3323M    0     0  31.3M      0  0:01:45  0:01:45 --:--:-- 35.7M\n",
      "  % Total    % Received % Xferd  Average Speed   Time    Time     Time  Current\n",
      "                                 Dload  Upload   Total   Spent    Left  Speed\n",
      "  0     0    0     0    0     0      0      0 --:--:-- --:--:-- --:--:--     0"
     ]
    },
    {
     "name": "stdout",
     "output_type": "stream",
     "text": [
      "Downloading month 2\n"
     ]
    },
    {
     "name": "stderr",
     "output_type": "stream",
     "text": [
      "100  1122  100  1122    0     0   1973      0 --:--:-- --:--:-- --:--:--  1978\n",
      "100 40.6M  100 40.6M    0     0  18.5M      0  0:00:02  0:00:02 --:--:-- 26.1M\n",
      "  % Total    % Received % Xferd  Average Speed   Time    Time     Time  Current\n",
      "                                 Dload  Upload   Total   Spent    Left  Speed\n",
      "100  1202  100  1202    0     0   2772      0 --:--:-- --:--:-- --:--:--  2775\n",
      "100  343M  100  343M    0     0  34.1M      0  0:00:10  0:00:10 --:--:-- 38.8M\n",
      "  % Total    % Received % Xferd  Average Speed   Time    Time     Time  Current\n",
      "                                 Dload  Upload   Total   Spent    Left  Speed\n",
      "100  1194  100  1194    0     0   2709      0 --:--:-- --:--:-- --:--:--  2713\n",
      "100 2965M  100 2965M    0     0  36.1M      0  0:01:22  0:01:22 --:--:-- 38.8M\n",
      "  % Total    % Received % Xferd  Average Speed   Time    Time     Time  Current\n",
      "                                 Dload  Upload   Total   Spent    Left  Speed\n",
      "  0     0    0     0    0     0      0      0 --:--:-- --:--:-- --:--:--     0"
     ]
    },
    {
     "name": "stdout",
     "output_type": "stream",
     "text": [
      "Downloading month 3\n"
     ]
    },
    {
     "name": "stderr",
     "output_type": "stream",
     "text": [
      "100  1120  100  1120    0     0   2139      0 --:--:-- --:--:-- --:--:--  2141\n",
      "100 53.9M  100 53.9M    0     0  21.6M      0  0:00:02  0:00:02 --:--:-- 38.5M\n",
      "  % Total    % Received % Xferd  Average Speed   Time    Time     Time  Current\n",
      "                                 Dload  Upload   Total   Spent    Left  Speed\n",
      "100  1200  100  1200    0     0   2539      0 --:--:-- --:--:-- --:--:--  2547\n",
      "100 7617M  100 7617M    0     0  35.3M      0  0:03:35  0:03:35 --:--:-- 37.5M\n",
      "  % Total    % Received % Xferd  Average Speed   Time    Time     Time  Current\n",
      "                                 Dload  Upload   Total   Spent    Left  Speed\n",
      "100  1192  100  1192    0     0   2297      0 --:--:-- --:--:-- --:--:--  2301\n",
      "100 3284M  100 3284M    0     0  37.1M      0  0:01:28  0:01:28 --:--:-- 36.0M\n",
      "  % Total    % Received % Xferd  Average Speed   Time    Time     Time  Current\n",
      "                                 Dload  Upload   Total   Spent    Left  Speed\n",
      "  0     0    0     0    0     0      0      0 --:--:-- --:--:-- --:--:--     0"
     ]
    },
    {
     "name": "stdout",
     "output_type": "stream",
     "text": [
      "Downloading month 4\n"
     ]
    },
    {
     "name": "stderr",
     "output_type": "stream",
     "text": [
      "100  1132  100  1132    0     0   2273      0 --:--:-- --:--:-- --:--:--  2277\n",
      "100 60.4M  100 60.4M    0     0  21.7M      0  0:00:02  0:00:02 --:--:-- 33.0M\n",
      "  % Total    % Received % Xferd  Average Speed   Time    Time     Time  Current\n",
      "                                 Dload  Upload   Total   Spent    Left  Speed\n",
      "100  1204  100  1204    0     0   2546      0 --:--:-- --:--:-- --:--:--  2550\n",
      "100 8345M  100 8345M    0     0  36.6M      0  0:03:47  0:03:47 --:--:-- 40.2M\n",
      "  % Total    % Received % Xferd  Average Speed   Time    Time     Time  Current\n",
      "                                 Dload  Upload   Total   Spent    Left  Speed\n",
      "100  1196  100  1196    0     0   2269      0 --:--:-- --:--:-- --:--:--  2269\n",
      "100 2465M  100 2465M    0     0  36.4M      0  0:01:07  0:01:07 --:--:-- 41.3M\n",
      "  % Total    % Received % Xferd  Average Speed   Time    Time     Time  Current\n",
      "                                 Dload  Upload   Total   Spent    Left  Speed\n",
      "  0     0    0     0    0     0      0      0 --:--:-- --:--:-- --:--:--     0"
     ]
    },
    {
     "name": "stdout",
     "output_type": "stream",
     "text": [
      "Downloading month 5\n"
     ]
    },
    {
     "name": "stderr",
     "output_type": "stream",
     "text": [
      "100  1128  100  1128    0     0   1899      0 --:--:-- --:--:-- --:--:--  1902\n",
      "100 67.7M  100 67.7M    0     0  22.5M      0  0:00:03  0:00:03 --:--:-- 38.9M\n",
      "  % Total    % Received % Xferd  Average Speed   Time    Time     Time  Current\n",
      "                                 Dload  Upload   Total   Spent    Left  Speed\n",
      "100  1190  100  1190    0     0   1970      0 --:--:-- --:--:-- --:--:--  1973\n",
      "100 8946M  100 8946M    0     0  35.3M      0  0:04:12  0:04:12 --:--:-- 38.6M\n",
      "  % Total    % Received % Xferd  Average Speed   Time    Time     Time  Current\n",
      "                                 Dload  Upload   Total   Spent    Left  Speed\n",
      "100  1196  100  1196    0     0   2234      0 --:--:-- --:--:-- --:--:--  2235\n",
      "100 3405M  100 3405M    0     0  32.3M      0  0:01:45  0:01:45 --:--:-- 39.5M\n",
      "  % Total    % Received % Xferd  Average Speed   Time    Time     Time  Current\n",
      "                                 Dload  Upload   Total   Spent    Left  Speed\n",
      "  0     0    0     0    0     0      0      0 --:--:-- --:--:-- --:--:--     0"
     ]
    },
    {
     "name": "stdout",
     "output_type": "stream",
     "text": [
      "Downloading month 6\n"
     ]
    },
    {
     "name": "stderr",
     "output_type": "stream",
     "text": [
      "100  1118  100  1118    0     0   2364      0 --:--:-- --:--:-- --:--:--  2373\n",
      "100 68.0M  100 68.0M    0     0  20.6M      0  0:00:03  0:00:03 --:--:-- 29.6M\n",
      "  % Total    % Received % Xferd  Average Speed   Time    Time     Time  Current\n",
      "                                 Dload  Upload   Total   Spent    Left  Speed\n",
      "100  1194  100  1194    0     0   2806      0 --:--:-- --:--:-- --:--:--  2816\n",
      "100 8700M  100 8700M    0     0  36.5M      0  0:03:58  0:03:58 --:--:-- 38.3M\n",
      "  % Total    % Received % Xferd  Average Speed   Time    Time     Time  Current\n",
      "                                 Dload  Upload   Total   Spent    Left  Speed\n",
      "100  1198  100  1198    0     0   2517      0 --:--:-- --:--:-- --:--:--  2522\n",
      "100 3323M  100 3323M    0     0  38.3M      0  0:01:26  0:01:26 --:--:-- 35.8M\n",
      "  % Total    % Received % Xferd  Average Speed   Time    Time     Time  Current\n",
      "                                 Dload  Upload   Total   Spent    Left  Speed\n",
      "  0     0    0     0    0     0      0      0 --:--:-- --:--:-- --:--:--     0"
     ]
    },
    {
     "name": "stdout",
     "output_type": "stream",
     "text": [
      "Downloading month 7\n"
     ]
    },
    {
     "name": "stderr",
     "output_type": "stream",
     "text": [
      "100  1120  100  1120    0     0   2014      0 --:--:-- --:--:-- --:--:--  2014\n",
      "100 68.0M  100 68.0M    0     0  24.5M      0  0:00:02  0:00:02 --:--:-- 44.2M\n",
      "  % Total    % Received % Xferd  Average Speed   Time    Time     Time  Current\n",
      "                                 Dload  Upload   Total   Spent    Left  Speed\n",
      "100  1192  100  1192    0     0   2913      0 --:--:-- --:--:-- --:--:--  2921\n",
      "100 8841M  100 8841M    0     0  37.2M      0  0:03:57  0:03:57 --:--:-- 36.2M\n",
      "  % Total    % Received % Xferd  Average Speed   Time    Time     Time  Current\n",
      "                                 Dload  Upload   Total   Spent    Left  Speed\n",
      "100  1190  100  1190    0     0   2078      0 --:--:-- --:--:-- --:--:--  2080\n",
      "100 3393M  100 3393M    0     0  35.9M      0  0:01:34  0:01:34 --:--:-- 39.3M\n",
      "  % Total    % Received % Xferd  Average Speed   Time    Time     Time  Current\n",
      "                                 Dload  Upload   Total   Spent    Left  Speed\n",
      "  0     0    0     0    0     0      0      0 --:--:-- --:--:-- --:--:--     0"
     ]
    },
    {
     "name": "stdout",
     "output_type": "stream",
     "text": [
      "Downloading month 8\n"
     ]
    },
    {
     "name": "stderr",
     "output_type": "stream",
     "text": [
      "100  1120  100  1120    0     0   2249      0 --:--:-- --:--:-- --:--:--  2258\n",
      "100 61.6M  100 61.6M    0     0  1939k      0  0:00:32  0:00:32 --:--:-- 2021k\n",
      "  % Total    % Received % Xferd  Average Speed   Time    Time     Time  Current\n",
      "                                 Dload  Upload   Total   Spent    Left  Speed\n",
      "100  1198  100  1198    0     0   2697      0 --:--:-- --:--:-- --:--:--  2698\n",
      "100 8675M  100 8675M    0     0  29.5M      0  0:04:53  0:04:53 --:--:-- 42.1M\n",
      "  % Total    % Received % Xferd  Average Speed   Time    Time     Time  Current\n",
      "                                 Dload  Upload   Total   Spent    Left  Speed\n",
      "100  1198  100  1198    0     0   2651      0 --:--:-- --:--:-- --:--:--  2656\n",
      "100 3143M  100 3143M    0     0  38.8M      0  0:01:20  0:01:20 --:--:-- 40.2M\n",
      "  % Total    % Received % Xferd  Average Speed   Time    Time     Time  Current\n",
      "                                 Dload  Upload   Total   Spent    Left  Speed\n",
      "  0     0    0     0    0     0      0      0 --:--:-- --:--:-- --:--:--     0"
     ]
    },
    {
     "name": "stdout",
     "output_type": "stream",
     "text": [
      "Downloading month 9\n"
     ]
    },
    {
     "name": "stderr",
     "output_type": "stream",
     "text": [
      "100  1124  100  1124    0     0   2418      0 --:--:-- --:--:-- --:--:--  2422\n",
      "100 51.2M  100 51.2M    0     0  22.5M      0  0:00:02  0:00:02 --:--:-- 37.9M\n",
      "  % Total    % Received % Xferd  Average Speed   Time    Time     Time  Current\n",
      "                                 Dload  Upload   Total   Spent    Left  Speed\n",
      "100  1196  100  1196    0     0   2818      0 --:--:-- --:--:-- --:--:--  2820\n",
      "100 8300M  100 8300M    0     0  37.2M      0  0:03:42  0:03:42 --:--:-- 42.4M\n",
      "  % Total    % Received % Xferd  Average Speed   Time    Time     Time  Current\n",
      "                                 Dload  Upload   Total   Spent    Left  Speed\n",
      "100  1196  100  1196    0     0   2634      0 --:--:-- --:--:-- --:--:--  2634\n",
      "100 3290M  100 3290M    0     0  38.8M      0  0:01:24  0:01:24 --:--:-- 39.7M\n",
      "  % Total    % Received % Xferd  Average Speed   Time    Time     Time  Current\n",
      "                                 Dload  Upload   Total   Spent    Left  Speed\n",
      "  0     0    0     0    0     0      0      0 --:--:-- --:--:-- --:--:--     0"
     ]
    },
    {
     "name": "stdout",
     "output_type": "stream",
     "text": [
      "Downloading month 10\n"
     ]
    },
    {
     "name": "stderr",
     "output_type": "stream",
     "text": [
      "100  1124  100  1124    0     0   1838      0 --:--:-- --:--:-- --:--:--  1842\n",
      "100 45.6M  100 45.6M    0     0  16.4M      0  0:00:02  0:00:02 --:--:-- 25.7M\n",
      "  % Total    % Received % Xferd  Average Speed   Time    Time     Time  Current\n",
      "                                 Dload  Upload   Total   Spent    Left  Speed\n",
      "100  1198  100  1198    0     0   2784      0 --:--:-- --:--:-- --:--:--  2792\n",
      "100 8564M  100 8564M    0     0  38.9M      0  0:03:40  0:03:40 --:--:-- 40.1M\n",
      "  % Total    % Received % Xferd  Average Speed   Time    Time     Time  Current\n",
      "                                 Dload  Upload   Total   Spent    Left  Speed\n",
      "100  1200  100  1200    0     0   2495      0 --:--:-- --:--:-- --:--:--  2505\n",
      "100 3335M  100 3335M    0     0  38.4M      0  0:01:26  0:01:26 --:--:-- 40.3M\n",
      "  % Total    % Received % Xferd  Average Speed   Time    Time     Time  Current\n",
      "                                 Dload  Upload   Total   Spent    Left  Speed\n",
      "  0     0    0     0    0     0      0      0 --:--:-- --:--:-- --:--:--     0"
     ]
    },
    {
     "name": "stdout",
     "output_type": "stream",
     "text": [
      "Downloading month 11\n"
     ]
    },
    {
     "name": "stderr",
     "output_type": "stream",
     "text": [
      "100  1122  100  1122    0     0   1810      0 --:--:-- --:--:-- --:--:--  1815\n",
      "100 11.0M  100 11.0M    0     0  7268k      0  0:00:01  0:00:01 --:--:-- 23.8M\n",
      "  % Total    % Received % Xferd  Average Speed   Time    Time     Time  Current\n",
      "                                 Dload  Upload   Total   Spent    Left  Speed\n",
      "100  1200  100  1200    0     0   2676      0 --:--:-- --:--:-- --:--:--  2678\n",
      "100 2279M  100 2279M    0     0  36.6M      0  0:01:02  0:01:02 --:--:-- 37.0M\n",
      "  % Total    % Received % Xferd  Average Speed   Time    Time     Time  Current\n",
      "                                 Dload  Upload   Total   Spent    Left  Speed\n",
      "100  1208  100  1208    0     0   2193      0 --:--:-- --:--:-- --:--:--  2196\n",
      "100 3249M  100 3249M    0     0  39.3M      0  0:01:22  0:01:22 --:--:-- 38.6M\n",
      "  % Total    % Received % Xferd  Average Speed   Time    Time     Time  Current\n",
      "                                 Dload  Upload   Total   Spent    Left  Speed\n",
      "  0     0    0     0    0     0      0      0 --:--:-- --:--:-- --:--:--     0"
     ]
    },
    {
     "name": "stdout",
     "output_type": "stream",
     "text": [
      "Downloading month 12\n"
     ]
    },
    {
     "name": "stderr",
     "output_type": "stream",
     "text": [
      "100  1124  100  1124    0     0   1964      0 --:--:-- --:--:-- --:--:--  1965\n",
      "100  2905  100  2905    0     0   2530      0  0:00:01  0:00:01 --:--:--  2530\n",
      "  % Total    % Received % Xferd  Average Speed   Time    Time     Time  Current\n",
      "                                 Dload  Upload   Total   Spent    Left  Speed\n",
      "100  1192  100  1192    0     0   2790      0 --:--:-- --:--:-- --:--:--  2791\n",
      "100 6430M  100 6430M    0     0  35.8M      0  0:02:59  0:02:59 --:--:-- 37.8M\n",
      "  % Total    % Received % Xferd  Average Speed   Time    Time     Time  Current\n",
      "                                 Dload  Upload   Total   Spent    Left  Speed\n",
      "100  1196  100  1196    0     0   2254      0 --:--:-- --:--:-- --:--:--  2260\n",
      "100 3328M  100 3328M    0     0  35.8M      0  0:01:32  0:01:32 --:--:-- 34.8M\n"
     ]
    }
   ],
   "source": [
    "import os\n",
    "for i in range(1, 12 + 1):\n",
    "    print(f\"Downloading month {i}\")\n",
    "    os.system(f\"curl -L https://huggingface.co/datasets/climatehackai/climatehackai-2023/resolve/main/pv/2021/{i}.parquet --output /data/pv/2021/{i}.parquet\")\n",
    "    os.system(f\"curl -L https://huggingface.co/datasets/climatehackai/climatehackai-2023/resolve/main/satellite-nonhrv/2021/{i}.zarr.zip --output /data/satellite-nonhrv/2021/{i}.zarr.zip\")\n",
    "    os.system(f\"curl -L https://huggingface.co/datasets/climatehackai/climatehackai-2023/resolve/main/weather/2021/{i}.zarr.zip --output /data/weather/2021/{i}.zarr.zip\")"
   ]
  },
  {
   "cell_type": "code",
   "execution_count": null,
   "metadata": {},
   "outputs": [],
   "source": []
  }
 ],
 "metadata": {
  "kernelspec": {
   "display_name": "Python 3",
   "language": "python",
   "name": "python3"
  },
  "language_info": {
   "codemirror_mode": {
    "name": "ipython",
    "version": 3
   },
   "file_extension": ".py",
   "mimetype": "text/x-python",
   "name": "python",
   "nbconvert_exporter": "python",
   "pygments_lexer": "ipython3",
   "version": "3.11.5"
  }
 },
 "nbformat": 4,
 "nbformat_minor": 2
}
