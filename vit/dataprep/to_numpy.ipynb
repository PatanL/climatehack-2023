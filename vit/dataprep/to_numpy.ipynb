{
  "cells": [
    {
      "cell_type": "code",
      "execution_count": 12,
      "metadata": {
        "id": "iMbVysqd67gI",
        "outputId": "9140a4a6-e470-4964-f52f-a83675c4f282"
      },
      "outputs": [
        {
          "name": "stderr",
          "output_type": "stream",
          "text": [
            "100%|██████████| 278/278 [00:07<00:00, 39.48it/s]]\n",
            "100%|██████████| 6015/6015 [07:44<00:00, 12.95it/s]\n",
            "100%|██████████| 6504/6504 [08:32<00:00, 12.68it/s]\n",
            "100%|██████████| 6506/6506 [08:38<00:00, 12.56it/s]\n",
            "100%|██████████| 6648/6648 [08:44<00:00, 12.67it/s]\n",
            "100%|██████████| 6727/6727 [08:58<00:00, 12.50it/s]\n",
            "100%|██████████| 6723/6723 [09:18<00:00, 12.05it/s]\n",
            "100%|██████████| 1797/1797 [02:16<00:00, 13.20it/s]\n",
            "100%|██████████| 5364/5364 [05:44<00:00, 15.57it/s]\n",
            "100%|██████████| 6727/6727 [07:24<00:00, 15.14it/s]\n",
            "100%|██████████| 6480/6480 [06:45<00:00, 16.00it/s]\n",
            "100%|██████████| 6727/6727 [06:44<00:00, 16.61it/s]\n"
          ]
        }
      ],
      "source": [
        "# sat xarray to np\n",
        "import xarray as xr\n",
        "from ocf_blosc2 import Blosc2\n",
        "import numpy as np\n",
        "from datetime import datetime, timedelta\n",
        "import os\n",
        "from tqdm import tqdm\n",
        "def process(year, month):\n",
        "    import xarray as xr\n",
        "    from ocf_blosc2 import Blosc2\n",
        "    import numpy as np\n",
        "    from datetime import datetime\n",
        "    import os\n",
        "    from tqdm import tqdm\n",
        "    data = xr.open_dataset(\n",
        "        f\"/data/satellite-nonhrv/{year}/{month}.zarr.zip\", engine=\"zarr\", chunks=\"auto\"\n",
        "    )\n",
        "    for time in tqdm(data[\"time\"].to_numpy()):\n",
        "        dt = to_datetime(time)\n",
        "        time = dt\n",
        "        if dt.minute != 0:\n",
        "            continue\n",
        "        first_hour = slice(str(time), str(time + timedelta(minutes=55)))\n",
        "        folder_name = base_folder + dt.strftime('%y-%m-%d') + \"/\"\n",
        "        file_name = dt.strftime('%H:%M:%S') + \".npy\"\n",
        "        total_name = folder_name + file_name\n",
        "        if not os.path.exists(folder_name):\n",
        "            os.makedirs(folder_name)\n",
        "        data_np = data[\"data\"].sel(time=first_hour).to_numpy()\n",
        "        np.save(total_name, data_np) # save\n",
        "def to_datetime(date):\n",
        "    \"\"\"\n",
        "    Converts a numpy datetime64 object to a python datetime object \n",
        "    Input:\n",
        "      date - a np.datetime64 object\n",
        "    Output:\n",
        "      DATE - a python datetime object\n",
        "    \"\"\"\n",
        "    timestamp = ((date - np.datetime64('1970-01-01T00:00:00'))\n",
        "                 / np.timedelta64(1, 's'))\n",
        "    return datetime.utcfromtimestamp(timestamp)\n",
        "    \n",
        "base_folder = \"/data/sat_np/\"\n",
        "from joblib import Parallel, delayed\n",
        "for year in range(2021, 2022):\n",
        "    Parallel(n_jobs=6)(delayed(process)(year, month) for month in range(1, 13))"
      ]
    },
    {
      "cell_type": "code",
      "execution_count": 13,
      "metadata": {
        "id": "JMc0_Q8K67gJ",
        "outputId": "3ae258b5-baeb-4cbb-8d0e-deac800719f6"
      },
      "outputs": [
        {
          "name": "stderr",
          "output_type": "stream",
          "text": [
            "100%|██████████| 436/436 [05:30<00:00,  1.32it/s]\n",
            "100%|██████████| 524/524 [06:39<00:00,  1.31it/s]\n",
            "100%|██████████| 584/584 [07:31<00:00,  1.29it/s]\n",
            "100%|██████████| 583/583 [07:31<00:00,  1.29it/s]\n",
            "100%|██████████| 583/583 [07:32<00:00,  1.29it/s]\n",
            "100%|██████████| 570/570 [07:26<00:00,  1.28it/s]\n",
            "100%|██████████| 589/589 [07:57<00:00,  1.23it/s]\n",
            "100%|██████████| 545/545 [07:22<00:00,  1.23it/s]\n",
            "100%|██████████| 564/564 [07:20<00:00,  1.28it/s]\n",
            "100%|██████████| 570/570 [07:26<00:00,  1.28it/s]\n",
            "100%|██████████| 583/583 [07:36<00:00,  1.28it/s]\n",
            "100%|██████████| 589/589 [07:33<00:00,  1.30it/s]\n"
          ]
        }
      ],
      "source": [
        "# weather xarray to np\n",
        "import xarray as xr\n",
        "from ocf_blosc2 import Blosc2\n",
        "import numpy as np\n",
        "from datetime import datetime\n",
        "import os\n",
        "from tqdm import tqdm\n",
        "\n",
        "base_folder = \"/data/weather_np/\"\n",
        "\n",
        "def process(year, month):\n",
        "    import xarray as xr\n",
        "    from ocf_blosc2 import Blosc2\n",
        "    import numpy as np\n",
        "    from datetime import datetime\n",
        "    import os\n",
        "    from tqdm import tqdm\n",
        "    data = xr.open_dataset(\n",
        "        f\"/data/weather/{year}/{month}.zarr.zip\", engine=\"zarr\", chunks=\"auto\"\n",
        "    )\n",
        "    NWP_FEATURES = [\n",
        "    \"t_500\", \"clcl\", \"alb_rad\", \"tot_prec\", \"ww\",\n",
        "    \"relhum_2m\", \"h_snow\", \"aswdir_s\", \"td_2m\", \"omega_1000\"\n",
        "    ]\n",
        "    data = data[NWP_FEATURES]\n",
        "    for time in tqdm(data[\"time\"].to_numpy()):\n",
        "        dt = to_datetime(time)\n",
        "        time = dt\n",
        "        if time.minute != 0:\n",
        "            continue\n",
        "        T = time + timedelta(hours=1)\n",
        "\n",
        "        nwp_hours = slice(str(T - timedelta(hours=1)), str(T + timedelta(hours=4)))\n",
        "\n",
        "        folder_name = base_folder + dt.strftime('%y-%m-%d') + \"/\"\n",
        "        file_name = dt.strftime('%H:%M:%S') + \".npy\"\n",
        "        total_name = folder_name + file_name\n",
        "        if not os.path.exists(folder_name):\n",
        "            os.makedirs(folder_name)\n",
        "        datas_np = []\n",
        "        for var in NWP_FEATURES:\n",
        "            data_np = data[var].sel(time=nwp_hours).to_numpy()\n",
        "            datas_np.append(data_np)\n",
        "        datas_np = np.array(datas_np)\n",
        "        np.save(total_name, datas_np) # save\n",
        "def to_datetime(date):\n",
        "    \"\"\"\n",
        "    Converts a numpy datetime64 object to a python datetime object \n",
        "    Input:\n",
        "      date - a np.datetime64 object\n",
        "    Output:\n",
        "      DATE - a python datetime object\n",
        "    \"\"\"\n",
        "    timestamp = ((date - np.datetime64('1970-01-01T00:00:00'))\n",
        "                 / np.timedelta64(1, 's'))\n",
        "    return datetime.utcfromtimestamp(timestamp)\n",
        "    \n",
        "from joblib import Parallel, delayed\n",
        "for year in range(2021, 2022):\n",
        "    Parallel(n_jobs=6)(delayed(process)(year, month) for month in range(1, 13))"
      ]
    },
    {
      "cell_type": "code",
      "execution_count": null,
      "metadata": {
        "id": "6XDpBpIl67gL"
      },
      "outputs": [],
      "source": []
    }
  ],
  "metadata": {
    "colab": {
      "provenance": []
    },
    "kernelspec": {
      "display_name": "Python 3 (ipykernel)",
      "language": "python",
      "name": "python3"
    },
    "language_info": {
      "codemirror_mode": {
        "name": "ipython",
        "version": 3
      },
      "file_extension": ".py",
      "mimetype": "text/x-python",
      "name": "python",
      "nbconvert_exporter": "python",
      "pygments_lexer": "ipython3",
      "version": "3.11.5"
    }
  },
  "nbformat": 4,
  "nbformat_minor": 0
}
