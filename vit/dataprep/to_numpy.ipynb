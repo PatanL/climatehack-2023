{
 "cells": [
  {
   "cell_type": "code",
   "execution_count": 27,
   "metadata": {},
   "outputs": [
    {
     "name": "stderr",
     "output_type": "stream",
     "text": [
      "100%|██████████| 278/278 [00:22<00:00, 12.16it/s]]\n",
      "100%|██████████| 6015/6015 [10:39<00:00,  9.41it/s]\n",
      "100%|██████████| 6648/6648 [10:47<00:00, 10.26it/s]\n",
      "100%|██████████| 6727/6727 [11:14<00:00,  9.97it/s]\n",
      "100%|██████████| 6723/6723 [11:15<00:00,  9.95it/s]\n",
      "100%|██████████| 6504/6504 [11:41<00:00,  9.27it/s]\n",
      "100%|██████████| 6506/6506 [11:51<00:00,  9.14it/s]\n",
      "100%|██████████| 1797/1797 [02:38<00:00, 11.32it/s]\n",
      "100%|██████████| 5364/5364 [07:27<00:00, 12.00it/s]\n",
      "100%|██████████| 6480/6480 [08:40<00:00, 12.44it/s]\n",
      "100%|██████████| 6727/6727 [08:42<00:00, 12.86it/s]\n",
      "100%|██████████| 6727/6727 [09:26<00:00, 11.87it/s]\n"
     ]
    }
   ],
   "source": [
    "# sat xarray to np\n",
    "import xarray as xr\n",
    "from ocf_blosc2 import Blosc2\n",
    "import numpy as np\n",
    "from datetime import datetime\n",
    "import os\n",
    "from tqdm import tqdm\n",
    "def process(year, month):\n",
    "    import xarray as xr\n",
    "    from ocf_blosc2 import Blosc2\n",
    "    import numpy as np\n",
    "    from datetime import datetime\n",
    "    import os\n",
    "    from tqdm import tqdm\n",
    "    data = xr.open_dataset(\n",
    "        f\"/data/satellite-nonhrv/{year}/{month}.zarr.zip\", engine=\"zarr\", chunks=\"auto\"\n",
    "    )\n",
    "    for time in tqdm(data[\"time\"].to_numpy()):\n",
    "        dt = to_datetime(time)\n",
    "        folder_name = base_folder + dt.strftime('%y-%m-%d') + \"/\"\n",
    "        file_name = dt.strftime('%H:%M:%S') + \".npz\"\n",
    "        total_name = folder_name + file_name\n",
    "        if not os.path.exists(folder_name):\n",
    "            os.makedirs(folder_name)\n",
    "        data_np = data[\"data\"].sel(time=time).to_numpy()\n",
    "        np.savez(total_name, data_np) # save\n",
    "def to_datetime(date):\n",
    "    \"\"\"\n",
    "    Converts a numpy datetime64 object to a python datetime object \n",
    "    Input:\n",
    "      date - a np.datetime64 object\n",
    "    Output:\n",
    "      DATE - a python datetime object\n",
    "    \"\"\"\n",
    "    timestamp = ((date - np.datetime64('1970-01-01T00:00:00'))\n",
    "                 / np.timedelta64(1, 's'))\n",
    "    return datetime.utcfromtimestamp(timestamp)\n",
    "    \n",
    "base_folder = \"/data/sat_np/\"\n",
    "from joblib import Parallel, delayed\n",
    "parallel = Parallel(n_jobs=4, return_as=\"generator\")\n",
    "for year in range(2021, 2022):\n",
    "    Parallel(n_jobs=6)(delayed(process)(year, month) for month in range(1, 13))"
   ]
  },
  {
   "cell_type": "code",
   "execution_count": 30,
   "metadata": {},
   "outputs": [
    {
     "name": "stdout",
     "output_type": "stream",
     "text": [
      "(10, 305, 289)\n"
     ]
    },
    {
     "name": "stderr",
     "output_type": "stream",
     "text": [
      "  0%|          | 0/524 [00:00<?, ?it/s].96it/s]"
     ]
    },
    {
     "name": "stdout",
     "output_type": "stream",
     "text": [
      "(10, 305, 289)\n"
     ]
    },
    {
     "name": "stderr",
     "output_type": "stream",
     "text": [
      "  0%|          | 0/570 [00:00<?, ?it/s].39it/s]"
     ]
    },
    {
     "name": "stdout",
     "output_type": "stream",
     "text": [
      "(10, 305, 289)\n",
      "(10, 305, 289)\n",
      "(10, 305, 289)\n",
      "(10, 305, 289)\n"
     ]
    },
    {
     "name": "stderr",
     "output_type": "stream",
     "text": [
      "100%|██████████| 436/436 [02:28<00:00,  2.94it/s]\n",
      "100%|██████████| 524/524 [02:59<00:00,  2.92it/s]\n",
      "100%|██████████| 570/570 [03:18<00:00,  2.88it/s]\n",
      "100%|██████████| 583/583 [03:24<00:00,  2.85it/s]\n",
      "100%|██████████| 584/584 [03:25<00:00,  2.85it/s]\n",
      "100%|██████████| 583/583 [03:26<00:00,  2.83it/s]\n",
      "100%|██████████| 589/589 [03:32<00:00,  2.77it/s]\n",
      "100%|██████████| 545/545 [03:10<00:00,  2.86it/s]\n",
      "100%|██████████| 570/570 [03:16<00:00,  2.91it/s]\n",
      "100%|██████████| 583/583 [03:14<00:00,  3.00it/s]\n",
      "100%|██████████| 564/564 [03:14<00:00,  2.91it/s]\n",
      "100%|██████████| 589/589 [03:19<00:00,  2.95it/s]\n"
     ]
    }
   ],
   "source": [
    "# weather xarray to np\n",
    "import xarray as xr\n",
    "from ocf_blosc2 import Blosc2\n",
    "import numpy as np\n",
    "from datetime import datetime\n",
    "import os\n",
    "from tqdm import tqdm\n",
    "\n",
    "base_folder = \"/data/weather_np/\"\n",
    "\n",
    "def process(year, month):\n",
    "    import xarray as xr\n",
    "    from ocf_blosc2 import Blosc2\n",
    "    import numpy as np\n",
    "    from datetime import datetime\n",
    "    import os\n",
    "    from tqdm import tqdm\n",
    "    data = xr.open_dataset(\n",
    "        f\"/data/weather/{year}/{month}.zarr.zip\", engine=\"zarr\", chunks=\"auto\"\n",
    "    )\n",
    "    NWP_FEATURES = [\n",
    "    \"t_500\", \"clcl\", \"alb_rad\", \"tot_prec\", \"ww\",\n",
    "    \"relhum_2m\", \"h_snow\", \"aswdir_s\", \"td_2m\", \"omega_1000\"\n",
    "    ]\n",
    "    data = data[NWP_FEATURES]\n",
    "    for time in tqdm(data[\"time\"].to_numpy()):\n",
    "        dt = to_datetime(time)\n",
    "        folder_name = base_folder + dt.strftime('%y-%m-%d') + \"/\"\n",
    "        file_name = dt.strftime('%H:%M:%S') + \".npz\"\n",
    "        total_name = folder_name + file_name\n",
    "        if not os.path.exists(folder_name):\n",
    "            os.makedirs(folder_name)\n",
    "        datas_np = []\n",
    "        for var in NWP_FEATURES:\n",
    "            data_np = data[var].sel(time=time).to_numpy()\n",
    "            datas_np.append(data_np)\n",
    "        datas_np = np.array(datas_np)\n",
    "        np.savez(total_name, datas_np) # save\n",
    "def to_datetime(date):\n",
    "    \"\"\"\n",
    "    Converts a numpy datetime64 object to a python datetime object \n",
    "    Input:\n",
    "      date - a np.datetime64 object\n",
    "    Output:\n",
    "      DATE - a python datetime object\n",
    "    \"\"\"\n",
    "    timestamp = ((date - np.datetime64('1970-01-01T00:00:00'))\n",
    "                 / np.timedelta64(1, 's'))\n",
    "    return datetime.utcfromtimestamp(timestamp)\n",
    "    \n",
    "from joblib import Parallel, delayed\n",
    "for year in range(2021, 2022):\n",
    "    Parallel(n_jobs=6)(delayed(process)(year, month) for month in range(1, 13))"
   ]
  },
  {
   "cell_type": "code",
   "execution_count": null,
   "metadata": {},
   "outputs": [],
   "source": []
  }
 ],
 "metadata": {
  "kernelspec": {
   "display_name": "Python 3 (ipykernel)",
   "language": "python",
   "name": "python3"
  },
  "language_info": {
   "codemirror_mode": {
    "name": "ipython",
    "version": 3
   },
   "file_extension": ".py",
   "mimetype": "text/x-python",
   "name": "python",
   "nbconvert_exporter": "python",
   "pygments_lexer": "ipython3",
   "version": "3.11.5"
  }
 },
 "nbformat": 4,
 "nbformat_minor": 4
}
