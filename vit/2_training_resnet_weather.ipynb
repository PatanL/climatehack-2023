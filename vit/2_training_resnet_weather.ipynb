{
  "cells": [
    {
      "cell_type": "code",
      "execution_count": 1,
      "metadata": {
        "id": "qdYdZgdLR1_s"
      },
      "outputs": [],
      "source": [
        "from datetime import datetime, time, timedelta\n",
        "import matplotlib.pyplot as plt\n",
        "import pandas as pd\n",
        "import torch\n",
        "import torch.nn as nn\n",
        "import torch.optim as optim\n",
        "import xarray as xr\n",
        "from ocf_blosc2 import Blosc2\n",
        "from torch.utils.data import DataLoader, IterableDataset\n",
        "from torchinfo import summary\n",
        "import json\n",
        "plt.rcParams[\"figure.figsize\"] = (20, 12)\n",
        "%load_ext autoreload\n",
        "%autoreload 2"
      ]
    },
    {
      "cell_type": "code",
      "execution_count": 2,
      "metadata": {
        "id": "Wf080q8HR1_s"
      },
      "outputs": [
        {
          "name": "stdout",
          "output_type": "stream",
          "text": [
            "cuda\n"
          ]
        }
      ],
      "source": [
        "device = \"cuda\" if torch.cuda.is_available() else \"cpu\"\n",
        "print(device)"
      ]
    },
    {
      "cell_type": "markdown",
      "metadata": {
        "id": "C8EGlRldR1_x"
      },
      "source": [
        "## Train a model"
      ]
    },
    {
      "cell_type": "code",
      "execution_count": 3,
      "metadata": {
        "id": "gr5D2pdnR1_x"
      },
      "outputs": [
        {
          "name": "stdout",
          "output_type": "stream",
          "text": [
            "train dataset len: 23440\n"
          ]
        }
      ],
      "source": [
        "from dataset import HDF5Dataset\n",
        "dataset = HDF5Dataset(\"./data/processed_data/processed_train.hdf5\", True, True, True, True)\n",
        "data_loader = DataLoader(dataset, batch_size=32, pin_memory=True, num_workers=8, shuffle=True)\n",
        "print(f\"train dataset len: {len(dataset)}\")"
      ]
    },
    {
      "cell_type": "code",
      "execution_count": 4,
      "metadata": {
        "id": "CIPuwDufR1_y"
      },
      "outputs": [
        {
          "data": {
            "text/plain": [
              "===============================================================================================\n",
              "Layer (type:depth-idx)                        Output Shape              Param #\n",
              "===============================================================================================\n",
              "OurResnet2                                    [1, 48]                   --\n",
              "├─VideoResNet: 1-1                            [1, 512]                  --\n",
              "│    └─BasicStem: 2-1                         [1, 64, 1, 64, 64]        --\n",
              "│    │    └─Conv3d: 3-1                       [1, 64, 1, 64, 64]        112,896\n",
              "│    │    └─BatchNorm3d: 3-2                  [1, 64, 1, 64, 64]        128\n",
              "│    │    └─ReLU: 3-3                         [1, 64, 1, 64, 64]        --\n",
              "│    └─Sequential: 2-2                        [1, 64, 1, 64, 64]        --\n",
              "│    │    └─BasicBlock: 3-4                   [1, 64, 1, 64, 64]        221,440\n",
              "│    │    └─BasicBlock: 3-5                   [1, 64, 1, 64, 64]        221,440\n",
              "│    └─Sequential: 2-3                        [1, 128, 1, 32, 32]       --\n",
              "│    │    └─BasicBlock: 3-6                   [1, 128, 1, 32, 32]       672,512\n",
              "│    │    └─BasicBlock: 3-7                   [1, 128, 1, 32, 32]       885,248\n",
              "│    └─Sequential: 2-4                        [1, 256, 1, 16, 16]       --\n",
              "│    │    └─BasicBlock: 3-8                   [1, 256, 1, 16, 16]       2,688,512\n",
              "│    │    └─BasicBlock: 3-9                   [1, 256, 1, 16, 16]       3,539,968\n",
              "│    └─Sequential: 2-5                        [1, 512, 1, 8, 8]         --\n",
              "│    │    └─BasicBlock: 3-10                  [1, 512, 1, 8, 8]         10,750,976\n",
              "│    │    └─BasicBlock: 3-11                  [1, 512, 1, 8, 8]         14,157,824\n",
              "│    └─AdaptiveAvgPool3d: 2-6                 [1, 512, 1, 1, 1]         --\n",
              "│    └─Identity: 2-7                          [1, 512]                  --\n",
              "├─VideoResNet: 1-2                            [1, 512]                  --\n",
              "│    └─BasicStem: 2-8                         [1, 64, 10, 64, 64]       --\n",
              "│    │    └─Conv3d: 3-12                      [1, 64, 10, 64, 64]       56,448\n",
              "│    │    └─BatchNorm3d: 3-13                 [1, 64, 10, 64, 64]       128\n",
              "│    │    └─ReLU: 3-14                        [1, 64, 10, 64, 64]       --\n",
              "│    └─Sequential: 2-9                        [1, 64, 10, 64, 64]       --\n",
              "│    │    └─BasicBlock: 3-15                  [1, 64, 10, 64, 64]       221,440\n",
              "│    │    └─BasicBlock: 3-16                  [1, 64, 10, 64, 64]       221,440\n",
              "│    └─Sequential: 2-10                       [1, 128, 5, 32, 32]       --\n",
              "│    │    └─BasicBlock: 3-17                  [1, 128, 5, 32, 32]       672,512\n",
              "│    │    └─BasicBlock: 3-18                  [1, 128, 5, 32, 32]       885,248\n",
              "│    └─Sequential: 2-11                       [1, 256, 3, 16, 16]       --\n",
              "│    │    └─BasicBlock: 3-19                  [1, 256, 3, 16, 16]       2,688,512\n",
              "│    │    └─BasicBlock: 3-20                  [1, 256, 3, 16, 16]       3,539,968\n",
              "│    └─Sequential: 2-12                       [1, 512, 2, 8, 8]         --\n",
              "│    │    └─BasicBlock: 3-21                  [1, 512, 2, 8, 8]         10,750,976\n",
              "│    │    └─BasicBlock: 3-22                  [1, 512, 2, 8, 8]         14,157,824\n",
              "│    └─AdaptiveAvgPool3d: 2-13                [1, 512, 1, 1, 1]         --\n",
              "│    └─Identity: 2-14                         [1, 512]                  --\n",
              "├─Sequential: 1-3                             [1, 48]                   --\n",
              "│    └─Linear: 2-15                           [1, 512]                  530,944\n",
              "│    └─Mish: 2-16                             [1, 512]                  --\n",
              "│    └─Linear: 2-17                           [1, 48]                   24,624\n",
              "===============================================================================================\n",
              "Total params: 67,001,008\n",
              "Trainable params: 67,001,008\n",
              "Non-trainable params: 0\n",
              "Total mult-adds (Units.GIGABYTES): 43.43\n",
              "===============================================================================================\n",
              "Input size (MB): 4.72\n",
              "Forward/backward pass size (MB): 322.44\n",
              "Params size (MB): 268.00\n",
              "Estimated Total Size (MB): 595.16\n",
              "==============================================================================================="
            ]
          },
          "execution_count": 4,
          "metadata": {},
          "output_type": "execute_result"
        }
      ],
      "source": [
        "from submission.model import OurResnet2\n",
        "model = OurResnet2(image_size=128).to(device)\n",
        "model.load_state_dict(torch.load(\"submission/OurResnetCombo-Full-NoWeather-ep12.pt\", map_location=device))\n",
        "criterion = nn.L1Loss()\n",
        "optimiser = optim.Adam(model.parameters(), lr=1e-3)\n",
        "summary(model, input_size=[(1, 12), (1, 12, 1, 128, 128), (1, 6, 10, 128, 128)])\n",
        "# x = torch.randn((1, 12)).to(device)\n",
        "# y = torch.randn((1, 12, 1, 128, 128)).to(device)\n",
        "# z = torch.randn((1, 6, 10, 128, 128)).to(device)\n",
        "# model(x, y, z)"
      ]
    },
    {
      "cell_type": "code",
      "execution_count": 9,
      "metadata": {
        "id": "4tuuVQz0R1_y"
      },
      "outputs": [
        {
          "name": "stderr",
          "output_type": "stream",
          "text": [
            "[autoreload of submission.run failed: Traceback (most recent call last):\n",
            "  File \"/home/dsingh/miniconda3/lib/python3.11/site-packages/IPython/extensions/autoreload.py\", line 276, in check\n",
            "    superreload(m, reload, self.old_objects)\n",
            "  File \"/home/dsingh/miniconda3/lib/python3.11/site-packages/IPython/extensions/autoreload.py\", line 500, in superreload\n",
            "    update_generic(old_obj, new_obj)\n",
            "  File \"/home/dsingh/miniconda3/lib/python3.11/site-packages/IPython/extensions/autoreload.py\", line 397, in update_generic\n",
            "    update(a, b)\n",
            "  File \"/home/dsingh/miniconda3/lib/python3.11/site-packages/IPython/extensions/autoreload.py\", line 349, in update_class\n",
            "    if update_generic(old_obj, new_obj):\n",
            "       ^^^^^^^^^^^^^^^^^^^^^^^^^^^^^^^^\n",
            "  File \"/home/dsingh/miniconda3/lib/python3.11/site-packages/IPython/extensions/autoreload.py\", line 397, in update_generic\n",
            "    update(a, b)\n",
            "  File \"/home/dsingh/miniconda3/lib/python3.11/site-packages/IPython/extensions/autoreload.py\", line 309, in update_function\n",
            "    setattr(old, name, getattr(new, name))\n",
            "ValueError: setup() requires a code object with 0 free vars, not 1\n",
            "]\n"
          ]
        },
        {
          "name": "stdout",
          "output_type": "stream",
          "text": [
            "Training model key OurResnetCombo-Full-NoWeather\n",
            "MAE: 0.15056399\n"
          ]
        },
        {
          "name": "stderr",
          "output_type": "stream",
          "text": [
            "Epoch 1, 250: 0.08719039228558541:  39%|███▊      | 283/733 [02:31<03:59,  1.88it/s]"
          ]
        }
      ],
      "source": [
        "EPOCHS = 100\n",
        "MODEL_KEY=\"OurResnetCombo-Full-NoWeather\"\n",
        "print(f\"Training model key {MODEL_KEY}\")\n",
        "from tqdm import tqdm\n",
        "for epoch in range(EPOCHS):\n",
        "    with torch.no_grad():\n",
        "        from validate import main\n",
        "        main(model=model)\n",
        "    model.train()\n",
        "\n",
        "    running_loss = 0.0\n",
        "    count = 0\n",
        "    for i, (pv_features, hrv_features, nwp, extra, pv_targets) in (pbar := tqdm(enumerate(data_loader), total=len(data_loader))):\n",
        "        optimiser.zero_grad()\n",
        "        with torch.autocast(device_type=device):\n",
        "            nwp = nwp.permute(0, 2, 1, 3, 4)\n",
        "            hrv_features = torch.unsqueeze(hrv_features, 2) # channels as first dim then number of \"frames\"\n",
        "            predictions = model(\n",
        "                pv_features.to(device,dtype=torch.float),\n",
        "                hrv_features.to(device,dtype=torch.float),\n",
        "                nwp.to(device,dtype=torch.float),\n",
        "            )\n",
        "            loss = criterion(predictions, pv_targets.to(device, dtype=torch.float))\n",
        "        loss.backward()\n",
        "\n",
        "        optimiser.step()\n",
        "\n",
        "        size = int(pv_targets.size(0))\n",
        "        running_loss += float(loss) * size\n",
        "        count += size\n",
        "\n",
        "        if i % 50 == 49:\n",
        "            pbar.set_description(f\"Epoch {epoch + 1}, {i + 1}: {running_loss / count}\")\n",
        "\n",
        "    print(f\"Epoch {epoch + 1}: {running_loss / count}\")\n",
        "    torch.save(model.state_dict(), f\"submission/{MODEL_KEY}-ep{epoch + 1}.pt\")\n",
        "    print(\"Saved model!\")"
      ]
    },
    {
      "cell_type": "code",
      "execution_count": null,
      "metadata": {
        "id": "FbKDEnQZR1_y"
      },
      "outputs": [],
      "source": [
        "# Save your model\n",
        "# torch.save(model.state_dict(), \"submission/model.pt\")"
      ]
    },
    {
      "cell_type": "code",
      "execution_count": null,
      "metadata": {},
      "outputs": [],
      "source": []
    }
  ],
  "metadata": {
    "colab": {
      "provenance": []
    },
    "kernelspec": {
      "display_name": "ml",
      "language": "python",
      "name": "python3"
    },
    "language_info": {
      "codemirror_mode": {
        "name": "ipython",
        "version": 3
      },
      "file_extension": ".py",
      "mimetype": "text/x-python",
      "name": "python",
      "nbconvert_exporter": "python",
      "pygments_lexer": "ipython3",
      "version": "3.11.5"
    }
  },
  "nbformat": 4,
  "nbformat_minor": 0
}
