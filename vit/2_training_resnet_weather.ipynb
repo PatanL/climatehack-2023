{
  "cells": [
    {
      "cell_type": "code",
      "execution_count": null,
      "metadata": {
        "id": "qdYdZgdLR1_s"
      },
      "outputs": [],
      "source": [
        "from datetime import datetime, time, timedelta\n",
        "import matplotlib.pyplot as plt\n",
        "import pandas as pd\n",
        "import torch\n",
        "import torch.nn as nn\n",
        "import torch.optim as optim\n",
        "import xarray as xr\n",
        "from ocf_blosc2 import Blosc2\n",
        "from torch.utils.data import DataLoader, IterableDataset\n",
        "from torchinfo import summary\n",
        "import json\n",
        "plt.rcParams[\"figure.figsize\"] = (20, 12)\n",
        "%load_ext autoreload\n",
        "%autoreload 2"
      ]
    },
    {
      "cell_type": "code",
      "execution_count": null,
      "metadata": {
        "id": "Wf080q8HR1_s"
      },
      "outputs": [],
      "source": [
        "device = \"cuda\" if torch.cuda.is_available() else \"cpu\"\n",
        "print(device)"
      ]
    },
    {
      "cell_type": "markdown",
      "metadata": {
        "id": "C8EGlRldR1_x"
      },
      "source": [
        "## Train a model"
      ]
    },
    {
      "cell_type": "code",
      "execution_count": null,
      "metadata": {
        "id": "gr5D2pdnR1_x"
      },
      "outputs": [],
      "source": [
        "from dataset import HDF5Dataset\n",
        "dataset = HDF5Dataset(\"./data/processed_data/processed_train.hdf5\", True, True, True, True)\n",
        "data_loader = DataLoader(dataset, batch_size=32, pin_memory=True, num_workers=8)\n",
        "print(f\"train dataset len: {len(dataset)}\")"
      ]
    },
    {
      "cell_type": "code",
      "execution_count": null,
      "metadata": {
        "id": "CIPuwDufR1_y"
      },
      "outputs": [],
      "source": [
        "from submission.model import OurResnet2\n",
        "model = OurResnet2(image_size=128).to(device)\n",
        "criterion = nn.L1Loss()\n",
        "optimiser = optim.Adam(model.parameters(), lr=1e-3)\n",
        "summary(model, input_size=[(1, 12), (1, 12, 1, 128, 128), (1, 6, 10, 128, 128)])\n",
        "# x = torch.randn((1, 12)).to(device)\n",
        "# y = torch.randn((1, 12, 1, 128, 128)).to(device)\n",
        "# z = torch.randn((1, 6, 10, 128, 128)).to(device)\n",
        "# model(x, y, z)"
      ]
    },
    {
      "cell_type": "code",
      "execution_count": null,
      "metadata": {
        "id": "4tuuVQz0R1_y"
      },
      "outputs": [],
      "source": [
        "EPOCHS = 100\n",
        "MODEL_KEY=\"OurResnetCombo-Full-NoWeather\"\n",
        "print(f\"Training model key {MODEL_KEY}\")\n",
        "from tqdm import tqdm\n",
        "for epoch in range(EPOCHS):\n",
        "    model.train()\n",
        "\n",
        "    running_loss = 0.0\n",
        "    count = 0\n",
        "    for i, (pv_features, hrv_features, nwp, extra, pv_targets) in (pbar := tqdm(enumerate(data_loader), total=len(data_loader))):\n",
        "        optimiser.zero_grad()\n",
        "        with torch.autocast(device_type=device):\n",
        "            nwp = nwp.permute(0, 2, 1, 3, 4)\n",
        "            hrv_features = torch.unsqueeze(hrv_features, 2) # channels as first dim then number of \"frames\"\n",
        "            predictions = model(\n",
        "                pv_features.to(device,dtype=torch.float),\n",
        "                hrv_features.to(device,dtype=torch.float),\n",
        "                nwp.to(device,dtype=torch.float),\n",
        "            )\n",
        "            loss = criterion(predictions, pv_targets.to(device, dtype=torch.float))\n",
        "        loss.backward()\n",
        "\n",
        "        optimiser.step()\n",
        "\n",
        "        size = int(pv_targets.size(0))\n",
        "        running_loss += float(loss) * size\n",
        "        count += size\n",
        "\n",
        "        if i % 50 == 49:\n",
        "            pbar.set_description(f\"Epoch {epoch + 1}, {i + 1}: {running_loss / count}\")\n",
        "\n",
        "    print(f\"Epoch {epoch + 1}: {running_loss / count}\")\n",
        "    torch.save(model.state_dict(), f\"submission/{MODEL_KEY}-ep{epoch + 1}.pt\")\n",
        "    print(\"Saved model!\")"
      ]
    },
    {
      "cell_type": "code",
      "execution_count": null,
      "metadata": {
        "id": "FbKDEnQZR1_y"
      },
      "outputs": [],
      "source": [
        "# Save your model\n",
        "torch.save(model.state_dict(), \"submission/model.pt\")"
      ]
    },
    {
      "cell_type": "code",
      "execution_count": null,
      "metadata": {},
      "outputs": [],
      "source": []
    }
  ],
  "metadata": {
    "colab": {
      "provenance": []
    },
    "kernelspec": {
      "display_name": "ml",
      "language": "python",
      "name": "python3"
    },
    "language_info": {
      "codemirror_mode": {
        "name": "ipython",
        "version": 3
      },
      "file_extension": ".py",
      "mimetype": "text/x-python",
      "name": "python",
      "nbconvert_exporter": "python",
      "pygments_lexer": "ipython3",
      "version": "3.11.5"
    }
  },
  "nbformat": 4,
  "nbformat_minor": 0
}
