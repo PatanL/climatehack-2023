{
  "cells": [
    {
      "cell_type": "code",
      "execution_count": 1,
      "metadata": {
        "id": "qdYdZgdLR1_s"
      },
      "outputs": [],
      "source": [
        "from datetime import datetime, time, timedelta\n",
        "import matplotlib.pyplot as plt\n",
        "import pandas as pd\n",
        "import torch\n",
        "import torch.nn as nn\n",
        "import torch.optim as optim\n",
        "import xarray as xr\n",
        "from ocf_blosc2 import Blosc2\n",
        "from torch.utils.data import DataLoader, IterableDataset\n",
        "from torchinfo import summary\n",
        "import json\n",
        "plt.rcParams[\"figure.figsize\"] = (20, 12)\n",
        "# %load_ext autoreload\n",
        "# %autoreload 2"
      ]
    },
    {
      "cell_type": "code",
      "execution_count": 2,
      "metadata": {
        "id": "Wf080q8HR1_s"
      },
      "outputs": [
        {
          "name": "stdout",
          "output_type": "stream",
          "text": [
            "cuda\n"
          ]
        }
      ],
      "source": [
        "device = \"cuda\" if torch.cuda.is_available() else \"cpu\"\n",
        "print(device)"
      ]
    },
    {
      "cell_type": "markdown",
      "metadata": {
        "id": "C8EGlRldR1_x"
      },
      "source": [
        "## Train a model"
      ]
    },
    {
      "cell_type": "code",
      "execution_count": 3,
      "metadata": {
        "id": "gr5D2pdnR1_x"
      },
      "outputs": [
        {
          "name": "stdout",
          "output_type": "stream",
          "text": [
            "train dataset len: 56184\n"
          ]
        }
      ],
      "source": [
        "from dataset import HDF5Dataset\n",
        "dataset = HDF5Dataset(\"./data/ds14_processed_data/processed_train.hdf5\", True, True, True, True)\n",
        "data_loader = DataLoader(dataset, batch_size=16, pin_memory=True, num_workers=8, shuffle=True)\n",
        "print(f\"train dataset len: {len(dataset)}\")"
      ]
    },
    {
      "cell_type": "code",
      "execution_count": 4,
      "metadata": {
        "id": "CIPuwDufR1_y"
      },
      "outputs": [
        {
          "data": {
            "text/plain": [
              "====================================================================================================\n",
              "Layer (type:depth-idx)                             Output Shape              Param #\n",
              "====================================================================================================\n",
              "OurResnet2                                         [1, 48]                   --\n",
              "├─VideoResNet: 1-1                                 [1, 256]                  --\n",
              "│    └─R2Plus1dStem: 2-1                           [1, 64, 12, 64, 64]       --\n",
              "│    │    └─Conv3d: 3-1                            [1, 45, 12, 64, 64]       2,205\n",
              "│    │    └─BatchNorm3d: 3-2                       [1, 45, 12, 64, 64]       90\n",
              "│    │    └─ReLU: 3-3                              [1, 45, 12, 64, 64]       --\n",
              "│    │    └─Conv3d: 3-4                            [1, 64, 12, 64, 64]       8,640\n",
              "│    │    └─BatchNorm3d: 3-5                       [1, 64, 12, 64, 64]       128\n",
              "│    │    └─ReLU: 3-6                              [1, 64, 12, 64, 64]       --\n",
              "│    └─Sequential: 2-2                             [1, 64, 12, 64, 64]       --\n",
              "│    │    └─BasicBlock: 3-7                        [1, 64, 12, 64, 64]       222,016\n",
              "│    │    └─BasicBlock: 3-8                        [1, 64, 12, 64, 64]       222,016\n",
              "│    └─Sequential: 2-3                             [1, 128, 6, 32, 32]       --\n",
              "│    │    └─BasicBlock: 3-9                        [1, 128, 6, 32, 32]       583,960\n",
              "│    │    └─BasicBlock: 3-10                       [1, 128, 6, 32, 32]       886,400\n",
              "│    └─Sequential: 2-4                             [1, 256, 3, 16, 16]       --\n",
              "│    │    └─BasicBlock: 3-11                       [1, 256, 3, 16, 16]       2,332,464\n",
              "│    │    └─BasicBlock: 3-12                       [1, 256, 3, 16, 16]       3,542,272\n",
              "│    └─Sequential: 2-5                             [1, 512, 2, 8, 8]         --\n",
              "│    │    └─BasicBlock: 3-13                       [1, 512, 2, 8, 8]         9,333,092\n",
              "│    │    └─BasicBlock: 3-14                       [1, 512, 2, 8, 8]         14,162,432\n",
              "│    └─AdaptiveAvgPool3d: 2-6                      [1, 512, 1, 1, 1]         --\n",
              "│    └─Sequential: 2-7                             [1, 256]                  --\n",
              "│    │    └─Linear: 3-15                           [1, 128]                  65,664\n",
              "│    │    └─Mish: 3-16                             [1, 128]                  --\n",
              "│    │    └─Dropout: 3-17                          [1, 128]                  --\n",
              "│    │    └─Linear: 3-18                           [1, 256]                  33,024\n",
              "│    │    └─Mish: 3-19                             [1, 256]                  --\n",
              "├─VideoResNet: 1-2                                 [1, 256]                  --\n",
              "│    └─R2Plus1dStem: 2-8                           [1, 64, 6, 64, 64]        --\n",
              "│    │    └─Conv3d: 3-20                           [1, 45, 6, 64, 64]        22,050\n",
              "│    │    └─BatchNorm3d: 3-21                      [1, 45, 6, 64, 64]        90\n",
              "│    │    └─ReLU: 3-22                             [1, 45, 6, 64, 64]        --\n",
              "│    │    └─Conv3d: 3-23                           [1, 64, 6, 64, 64]        8,640\n",
              "│    │    └─BatchNorm3d: 3-24                      [1, 64, 6, 64, 64]        128\n",
              "│    │    └─ReLU: 3-25                             [1, 64, 6, 64, 64]        --\n",
              "│    └─Sequential: 2-9                             [1, 64, 6, 64, 64]        --\n",
              "│    │    └─BasicBlock: 3-26                       [1, 64, 6, 64, 64]        222,016\n",
              "│    │    └─BasicBlock: 3-27                       [1, 64, 6, 64, 64]        222,016\n",
              "│    └─Sequential: 2-10                            [1, 128, 3, 32, 32]       --\n",
              "│    │    └─BasicBlock: 3-28                       [1, 128, 3, 32, 32]       583,960\n",
              "│    │    └─BasicBlock: 3-29                       [1, 128, 3, 32, 32]       886,400\n",
              "│    └─Sequential: 2-11                            [1, 256, 2, 16, 16]       --\n",
              "│    │    └─BasicBlock: 3-30                       [1, 256, 2, 16, 16]       2,332,464\n",
              "│    │    └─BasicBlock: 3-31                       [1, 256, 2, 16, 16]       3,542,272\n",
              "│    └─Sequential: 2-12                            [1, 512, 1, 8, 8]         --\n",
              "│    │    └─BasicBlock: 3-32                       [1, 512, 1, 8, 8]         9,333,092\n",
              "│    │    └─BasicBlock: 3-33                       [1, 512, 1, 8, 8]         14,162,432\n",
              "│    └─AdaptiveAvgPool3d: 2-13                     [1, 512, 1, 1, 1]         --\n",
              "│    └─Sequential: 2-14                            [1, 256]                  --\n",
              "│    │    └─Linear: 3-34                           [1, 128]                  65,664\n",
              "│    │    └─Mish: 3-35                             [1, 128]                  --\n",
              "│    │    └─Dropout: 3-36                          [1, 128]                  --\n",
              "│    │    └─Linear: 3-37                           [1, 256]                  33,024\n",
              "│    │    └─Mish: 3-38                             [1, 256]                  --\n",
              "├─Sequential: 1-3                                  [1, 48]                   --\n",
              "│    └─Dropout: 2-15                               [1, 528]                  --\n",
              "│    └─Linear: 2-16                                [1, 48]                   25,392\n",
              "│    └─Mish: 2-17                                  [1, 48]                   --\n",
              "====================================================================================================\n",
              "Total params: 62,834,043\n",
              "Trainable params: 62,834,043\n",
              "Non-trainable params: 0\n",
              "Total mult-adds (Units.GIGABYTES): 61.48\n",
              "====================================================================================================\n",
              "Input size (MB): 4.72\n",
              "Forward/backward pass size (MB): 1489.78\n",
              "Params size (MB): 251.34\n",
              "Estimated Total Size (MB): 1745.83\n",
              "===================================================================================================="
            ]
          },
          "execution_count": 4,
          "metadata": {},
          "output_type": "execute_result"
        }
      ],
      "source": [
        "EPOCHS = 200\n",
        "from submission.model import OurResnet2\n",
        "model = OurResnet2(image_size=128).to(device)\n",
        "criterion = nn.L1Loss()\n",
        "optimiser = optim.AdamW(model.parameters(), lr=1e-4, weight_decay=0.05)\n",
        "lr_scheduler = optim.lr_scheduler.OneCycleLR(optimiser, max_lr=1e-2, epochs=EPOCHS, steps_per_epoch=len(data_loader))\n",
        "summary(model, input_size=[(1, 12), (1, 1, 12, 128, 128), (1, 10, 6, 128, 128), (1, 4)])\n",
        "# x = torch.randn((1, 12)).to(device)\n",
        "# y = torch.randn((1, 1, 12, 128, 128)).to(device)\n",
        "# z = torch.randn((1, 10, 6, 128, 128)).to(device)\n",
        "# model(x, y, z)"
      ]
    },
    {
      "cell_type": "code",
      "execution_count": 5,
      "metadata": {
        "id": "4tuuVQz0R1_y"
      },
      "outputs": [
        {
          "name": "stdout",
          "output_type": "stream",
          "text": [
            "Training model key Extra_TemporalResnet2+1Combo-Full-Weather-NewOptim-FC\n"
          ]
        },
        {
          "name": "stderr",
          "output_type": "stream",
          "text": [
            "Epoch 1, 60: 0.5330028793464104:   2%|▏         | 65/3512 [00:47<41:39,  1.38it/s]\n"
          ]
        },
        {
          "ename": "KeyboardInterrupt",
          "evalue": "",
          "output_type": "error",
          "traceback": [
            "\u001b[0;31m---------------------------------------------------------------------------\u001b[0m",
            "\u001b[0;31mKeyboardInterrupt\u001b[0m                         Traceback (most recent call last)",
            "Cell \u001b[0;32mIn[5], line 26\u001b[0m\n\u001b[1;32m     23\u001b[0m optimiser\u001b[38;5;241m.\u001b[39mstep()\n\u001b[1;32m     25\u001b[0m size \u001b[38;5;241m=\u001b[39m \u001b[38;5;28mint\u001b[39m(pv_targets\u001b[38;5;241m.\u001b[39msize(\u001b[38;5;241m0\u001b[39m))\n\u001b[0;32m---> 26\u001b[0m running_loss \u001b[38;5;241m+\u001b[39m\u001b[38;5;241m=\u001b[39m \u001b[38;5;28mfloat\u001b[39m(loss) \u001b[38;5;241m*\u001b[39m size\n\u001b[1;32m     27\u001b[0m count \u001b[38;5;241m+\u001b[39m\u001b[38;5;241m=\u001b[39m size\n\u001b[1;32m     29\u001b[0m \u001b[38;5;28;01mif\u001b[39;00m i \u001b[38;5;241m%\u001b[39m \u001b[38;5;241m10\u001b[39m \u001b[38;5;241m==\u001b[39m \u001b[38;5;241m9\u001b[39m:\n",
            "\u001b[0;31mKeyboardInterrupt\u001b[0m: "
          ]
        }
      ],
      "source": [
        "START_EPOCH = 0\n",
        "MODEL_KEY=\"Extra_TemporalResnet2+1Combo-Full-Weather-NewOptim-FC\"\n",
        "print(f\"Training model key {MODEL_KEY}\")\n",
        "from tqdm import tqdm\n",
        "for epoch in range(EPOCHS):\n",
        "    model.train()\n",
        "\n",
        "    running_loss = 0.0\n",
        "    count = 0\n",
        "    for i, (pv_features, hrv_features, nwp, extra, pv_targets) in (pbar := tqdm(enumerate(data_loader), total=len(data_loader))):\n",
        "        optimiser.zero_grad()\n",
        "        with torch.autocast(device_type=device):\n",
        "            hrv_features = torch.unsqueeze(hrv_features, 1)\n",
        "            predictions = model(\n",
        "                pv_features.to(device,dtype=torch.float),\n",
        "                hrv_features.to(device,dtype=torch.float),\n",
        "                nwp.to(device,dtype=torch.float),\n",
        "                extra.to(device,dtype=torch.float),\n",
        "            )\n",
        "            loss = criterion(predictions, pv_targets.to(device, dtype=torch.float))\n",
        "        loss.backward()\n",
        "        torch.nn.utils.clip_grad_norm_(model.parameters(), 1)\n",
        "        optimiser.step()\n",
        "\n",
        "        size = int(pv_targets.size(0))\n",
        "        running_loss += float(loss) * size\n",
        "        count += size\n",
        "\n",
        "        if i % 10 == 9:\n",
        "            pbar.set_description(f\"Epoch {START_EPOCH + epoch + 1}, {i + 1}: {running_loss / count}\")\n",
        "        if i % 100 == 99:\n",
        "            print(f\"Epoch {START_EPOCH + epoch + 1}, {i + 1}: {running_loss / count}\")\n",
        "\n",
        "        lr_scheduler.step()\n",
        "\n",
        "    print(f\"Epoch {START_EPOCH + epoch + 1}: {running_loss / count}\")\n",
        "    torch.save(model.state_dict(), f\"/data/{MODEL_KEY}-ep{START_EPOCH + epoch + 1}.pt\")\n",
        "    print(\"Saved model!\")"
      ]
    },
    {
      "cell_type": "code",
      "execution_count": null,
      "metadata": {
        "id": "FbKDEnQZR1_y"
      },
      "outputs": [],
      "source": [
        "# Save your model\n",
        "# torch.save(model.state_dict(), \"submission/model.pt\")"
      ]
    },
    {
      "cell_type": "code",
      "execution_count": null,
      "metadata": {},
      "outputs": [],
      "source": []
    }
  ],
  "metadata": {
    "colab": {
      "provenance": []
    },
    "kernelspec": {
      "display_name": "ml",
      "language": "python",
      "name": "python3"
    },
    "language_info": {
      "codemirror_mode": {
        "name": "ipython",
        "version": 3
      },
      "file_extension": ".py",
      "mimetype": "text/x-python",
      "name": "python",
      "nbconvert_exporter": "python",
      "pygments_lexer": "ipython3",
      "version": "3.11.5"
    }
  },
  "nbformat": 4,
  "nbformat_minor": 0
}
