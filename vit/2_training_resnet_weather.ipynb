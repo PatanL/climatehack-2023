{
  "cells": [
    {
      "cell_type": "code",
      "execution_count": 1,
      "metadata": {
        "id": "qdYdZgdLR1_s"
      },
      "outputs": [],
      "source": [
        "from datetime import datetime, time, timedelta\n",
        "import matplotlib.pyplot as plt\n",
        "import pandas as pd\n",
        "import torch\n",
        "import torch.nn as nn\n",
        "import torch.optim as optim\n",
        "import xarray as xr\n",
        "from ocf_blosc2 import Blosc2\n",
        "from torch.utils.data import DataLoader, IterableDataset\n",
        "from torchinfo import summary\n",
        "import json\n",
        "import glob\n",
        "plt.rcParams[\"figure.figsize\"] = (20, 12)\n",
        "# %load_ext autoreload\n",
        "# %autoreload 2"
      ]
    },
    {
      "cell_type": "code",
      "execution_count": 2,
      "metadata": {
        "id": "Wf080q8HR1_s"
      },
      "outputs": [
        {
          "name": "stdout",
          "output_type": "stream",
          "text": [
            "cuda\n"
          ]
        }
      ],
      "source": [
        "device = \"cuda\" if torch.cuda.is_available() else \"cpu\"\n",
        "print(device)"
      ]
    },
    {
      "cell_type": "code",
      "execution_count": 3,
      "metadata": {
        "id": "gr5D2pdnR1_x"
      },
      "outputs": [
        {
          "name": "stdout",
          "output_type": "stream",
          "text": [
            "train dataset len: 3305577\n"
          ]
        }
      ],
      "source": [
        "from dataset import ChallengeDataset\n",
        "import json\n",
        "with open(\"indices.json\") as f:\n",
        "    site_locations = {\n",
        "        data_source: {\n",
        "            int(site): (int(location[0]), int(location[1]))\n",
        "            for site, location in locations.items()\n",
        "        }\n",
        "        for data_source, locations in json.load(f).items()\n",
        "    }\n",
        "dataset = ChallengeDataset('/data/pv/2021/', '/data/satellite-nonhrv_proc/2021/', \"/data/weather_proc/2021/\", site_locations, None)\n",
        "data_loader = DataLoader(dataset, batch_size=16, pin_memory=True, num_workers=2, shuffle=False)\n",
        "print(f\"train dataset len: {len(dataset)}\")"
      ]
    },
    {
      "cell_type": "code",
      "execution_count": 4,
      "metadata": {
        "id": "CIPuwDufR1_y"
      },
      "outputs": [
        {
          "data": {
            "text/plain": [
              "====================================================================================================\n",
              "Layer (type:depth-idx)                             Output Shape              Param #\n",
              "====================================================================================================\n",
              "OurResnet2                                         [1, 48]                   --\n",
              "├─VideoResNet: 1-1                                 [1, 256]                  --\n",
              "│    └─R2Plus1dStem: 2-1                           [1, 64, 12, 64, 64]       --\n",
              "│    │    └─Conv3d: 3-1                            [1, 45, 12, 64, 64]       24,255\n",
              "│    │    └─BatchNorm3d: 3-2                       [1, 45, 12, 64, 64]       90\n",
              "│    │    └─ReLU: 3-3                              [1, 45, 12, 64, 64]       --\n",
              "│    │    └─Conv3d: 3-4                            [1, 64, 12, 64, 64]       8,640\n",
              "│    │    └─BatchNorm3d: 3-5                       [1, 64, 12, 64, 64]       128\n",
              "│    │    └─ReLU: 3-6                              [1, 64, 12, 64, 64]       --\n",
              "│    └─Sequential: 2-2                             [1, 64, 12, 64, 64]       --\n",
              "│    │    └─BasicBlock: 3-7                        [1, 64, 12, 64, 64]       222,016\n",
              "│    │    └─BasicBlock: 3-8                        [1, 64, 12, 64, 64]       222,016\n",
              "│    └─Sequential: 2-3                             [1, 128, 6, 32, 32]       --\n",
              "│    │    └─BasicBlock: 3-9                        [1, 128, 6, 32, 32]       583,960\n",
              "│    │    └─BasicBlock: 3-10                       [1, 128, 6, 32, 32]       886,400\n",
              "│    └─Sequential: 2-4                             [1, 256, 3, 16, 16]       --\n",
              "│    │    └─BasicBlock: 3-11                       [1, 256, 3, 16, 16]       2,332,464\n",
              "│    │    └─BasicBlock: 3-12                       [1, 256, 3, 16, 16]       3,542,272\n",
              "│    └─Sequential: 2-5                             [1, 512, 2, 8, 8]         --\n",
              "│    │    └─BasicBlock: 3-13                       [1, 512, 2, 8, 8]         9,333,092\n",
              "│    │    └─BasicBlock: 3-14                       [1, 512, 2, 8, 8]         14,162,432\n",
              "│    └─AdaptiveAvgPool3d: 2-6                      [1, 512, 1, 1, 1]         --\n",
              "│    └─Sequential: 2-7                             [1, 256]                  --\n",
              "│    │    └─Linear: 3-15                           [1, 384]                  196,992\n",
              "│    │    └─Mish: 3-16                             [1, 384]                  --\n",
              "│    │    └─Linear: 3-17                           [1, 256]                  98,560\n",
              "│    │    └─Mish: 3-18                             [1, 256]                  --\n",
              "├─VideoResNet: 1-2                                 [1, 256]                  --\n",
              "│    └─R2Plus1dStem: 2-8                           [1, 64, 6, 64, 64]        --\n",
              "│    │    └─Conv3d: 3-19                           [1, 45, 6, 64, 64]        22,050\n",
              "│    │    └─BatchNorm3d: 3-20                      [1, 45, 6, 64, 64]        90\n",
              "│    │    └─ReLU: 3-21                             [1, 45, 6, 64, 64]        --\n",
              "│    │    └─Conv3d: 3-22                           [1, 64, 6, 64, 64]        8,640\n",
              "│    │    └─BatchNorm3d: 3-23                      [1, 64, 6, 64, 64]        128\n",
              "│    │    └─ReLU: 3-24                             [1, 64, 6, 64, 64]        --\n",
              "│    └─Sequential: 2-9                             [1, 64, 6, 64, 64]        --\n",
              "│    │    └─BasicBlock: 3-25                       [1, 64, 6, 64, 64]        222,016\n",
              "│    │    └─BasicBlock: 3-26                       [1, 64, 6, 64, 64]        222,016\n",
              "│    └─Sequential: 2-10                            [1, 128, 3, 32, 32]       --\n",
              "│    │    └─BasicBlock: 3-27                       [1, 128, 3, 32, 32]       583,960\n",
              "│    │    └─BasicBlock: 3-28                       [1, 128, 3, 32, 32]       886,400\n",
              "│    └─Sequential: 2-11                            [1, 256, 2, 16, 16]       --\n",
              "│    │    └─BasicBlock: 3-29                       [1, 256, 2, 16, 16]       2,332,464\n",
              "│    │    └─BasicBlock: 3-30                       [1, 256, 2, 16, 16]       3,542,272\n",
              "│    └─Sequential: 2-12                            [1, 512, 1, 8, 8]         --\n",
              "│    │    └─BasicBlock: 3-31                       [1, 512, 1, 8, 8]         9,333,092\n",
              "│    │    └─BasicBlock: 3-32                       [1, 512, 1, 8, 8]         14,162,432\n",
              "│    └─AdaptiveAvgPool3d: 2-13                     [1, 512, 1, 1, 1]         --\n",
              "│    └─Sequential: 2-14                            [1, 256]                  --\n",
              "│    │    └─Linear: 3-33                           [1, 384]                  196,992\n",
              "│    │    └─Mish: 3-34                             [1, 384]                  --\n",
              "│    │    └─Linear: 3-35                           [1, 256]                  98,560\n",
              "│    │    └─Mish: 3-36                             [1, 256]                  --\n",
              "├─Sequential: 1-3                                  [1, 128]                  --\n",
              "│    └─Dropout: 2-15                               [1, 512]                  --\n",
              "│    └─Linear: 2-16                                [1, 256]                  131,328\n",
              "│    └─Mish: 2-17                                  [1, 256]                  --\n",
              "│    └─Linear: 2-18                                [1, 128]                  32,896\n",
              "│    └─Mish: 2-19                                  [1, 128]                  --\n",
              "├─Embedding: 1-4                                   [1, 12]                   4,320\n",
              "├─Embedding: 1-5                                   [1, 12]                   4,320\n",
              "├─ResFCNet2: 1-6                                   [1, 48]                   --\n",
              "│    └─Sequential: 2-20                            [1, 48]                   --\n",
              "│    │    └─Linear: 3-37                           [1, 128]                  21,120\n",
              "│    │    └─ResidualLinearBlock2: 3-38             [1, 128]                  33,536\n",
              "│    │    └─ResidualLinearBlock2: 3-39             [1, 128]                  33,536\n",
              "│    │    └─ResidualLinearBlock2: 3-40             [1, 128]                  33,536\n",
              "│    │    └─ResidualLinearBlock2: 3-41             [1, 128]                  33,536\n",
              "│    │    └─Mish: 3-42                             [1, 128]                  --\n",
              "│    │    └─Linear: 3-43                           [1, 48]                   6,192\n",
              "│    │    └─Mish: 3-44                             [1, 48]                   --\n",
              "====================================================================================================\n",
              "Total params: 63,558,749\n",
              "Trainable params: 63,558,749\n",
              "Non-trainable params: 0\n",
              "Total mult-adds (Units.GIGABYTES): 62.56\n",
              "====================================================================================================\n",
              "Input size (MB): 12.58\n",
              "Forward/backward pass size (MB): 1489.80\n",
              "Params size (MB): 254.23\n",
              "Estimated Total Size (MB): 1756.62\n",
              "===================================================================================================="
            ]
          },
          "execution_count": 4,
          "metadata": {},
          "output_type": "execute_result"
        }
      ],
      "source": [
        "EPOCHS = 15\n",
        "START_EPOCH = 0\n",
        "LR = 1e-3\n",
        "from submission.model import OurResnet2\n",
        "model = OurResnet2(image_size=128, device=device).to(device)\n",
        "criterion = nn.L1Loss()\n",
        "optimiser = optim.AdamW(model.parameters(), lr=LR, weight_decay=0.02)\n",
        "lr_scheduler = optim.lr_scheduler.CosineAnnealingLR(optimiser, T_max=10, eta_min=7e-5)\n",
        "summary(model, input_size=[(1, 12), (1, 11, 12, 128, 128), (1, 10, 6, 128, 128), (1, 3)])\n",
        "# x = torch.randn((1, 12)).to(device)\n",
        "# y = torch.randn((1, 1, 12, 128, 128)).to(device)\n",
        "# z = torch.randn((1, 10, 6, 128, 128)).to(device)\n",
        "# a = torch.randn((1, 3)).to(device)\n",
        "# model(x, y, z, a)"
      ]
    },
    {
      "cell_type": "code",
      "execution_count": 5,
      "metadata": {},
      "outputs": [],
      "source": [
        "from torch.utils.tensorboard import SummaryWriter\n",
        "writer = SummaryWriter()\n",
        "def hasNan(tensor):\n",
        "    return torch.isnan(tensor).any()"
      ]
    },
    {
      "cell_type": "code",
      "execution_count": 6,
      "metadata": {
        "id": "4tuuVQz0R1_y"
      },
      "outputs": [
        {
          "name": "stdout",
          "output_type": "stream",
          "text": [
            "Training model key ExtraEmbedding_TemporalResnet2+1Combo-PVResFCNet2\n"
          ]
        },
        {
          "name": "stderr",
          "output_type": "stream",
          "text": [
            "Epoch 1, 10: 0.13678305372595786:   0%|          | 10/206599 [02:35<739:33:03, 12.89s/it]"
          ]
        }
      ],
      "source": [
        "MODEL_KEY=\"ExtraEmbedding_TemporalResnet2+1Combo-PVResFCNet2\"\n",
        "print(f\"Training model key {MODEL_KEY}\")\n",
        "from tqdm import tqdm\n",
        "for epoch in range(EPOCHS):\n",
        "    model.train()\n",
        "\n",
        "    running_loss = 0.0\n",
        "    i = 0\n",
        "    count = 0\n",
        "    for (pv_features, hrv_features, nwp, extra, pv_targets) in (pbar := tqdm(data_loader, total=len(data_loader), ascii=True)):\n",
        "        optimiser.zero_grad()\n",
        "        with torch.autocast(device_type=device):\n",
        "            real_extra = extra[:, 2:]\n",
        "            if hasNan(pv_features) or hasNan(hrv_features) or hasNan(nwp) or hasNan(extra) or hasNan(pv_targets):\n",
        "                print(f\"Found nan {i}\")\n",
        "                continue\n",
        "            predictions = model(\n",
        "                pv_features.to(device,dtype=torch.float),\n",
        "                hrv_features.to(device,dtype=torch.float),\n",
        "                nwp.to(device,dtype=torch.float).permute(0, 2, 1, 3, 4),\n",
        "                real_extra.to(device,dtype=torch.float),\n",
        "            )\n",
        "            loss = criterion(predictions, pv_targets.to(device, dtype=torch.float))\n",
        "        loss.backward()\n",
        "        torch.nn.utils.clip_grad_norm_(model.parameters(), 1)\n",
        "        optimiser.step()\n",
        "\n",
        "        size = int(pv_targets.size(0))\n",
        "        running_loss += float(loss) * size\n",
        "        count += size\n",
        "\n",
        "        if i % 10 == 9:\n",
        "            writer.add_scalar(f\"Loss/train_batch_level\", (running_loss / count), epoch * len(data_loader) + i)\n",
        "            pbar.set_description(f\"Epoch {START_EPOCH + epoch + 1}, {i + 1}: {running_loss / count}\")\n",
        "        if i % 100 == 99:\n",
        "            print(f\"Epoch {START_EPOCH + epoch + 1}, {i + 1}: {running_loss / count}\")\n",
        "            writer.add_scalar(f\"Loss/train_ep_level\", (running_loss / count), START_EPOCH + epoch + 1)\n",
        "        if i % 3000 == 2999:\n",
        "            torch.save(model.state_dict(), f\"./cpts/{MODEL_KEY}-ep{START_EPOCH + epoch + 1}.pt\")\n",
        "        i += 1\n",
        "    lr_scheduler.step() \n",
        "    current_lr = lr_scheduler.get_last_lr()[0]\n",
        "    print(f\"Epoch {START_EPOCH + epoch + 1}: {running_loss / count} (LR: {current_lr})\")\n",
        "    writer.add_scalar(f\"LR\", current_lr, START_EPOCH + epoch + 1)\n",
        "    torch.save(model.state_dict(), f\"./cpts/{MODEL_KEY}-ep{START_EPOCH + epoch + 1}.pt\")\n",
        "    print(\"Saved model!\")"
      ]
    },
    {
      "cell_type": "code",
      "execution_count": null,
      "metadata": {},
      "outputs": [],
      "source": []
    },
    {
      "cell_type": "code",
      "execution_count": null,
      "metadata": {},
      "outputs": [],
      "source": [
        "for i in range(100):\n",
        "    pv_features, hrv_features, weather_features, extra, pv_targets = dataset[i]\n",
        "    print(hrv_features.shape, weather_features.shape)"
      ]
    },
    {
      "cell_type": "code",
      "execution_count": null,
      "metadata": {},
      "outputs": [],
      "source": []
    }
  ],
  "metadata": {
    "colab": {
      "provenance": []
    },
    "kernelspec": {
      "display_name": "ml",
      "language": "python",
      "name": "python3"
    },
    "language_info": {
      "codemirror_mode": {
        "name": "ipython",
        "version": 3
      },
      "file_extension": ".py",
      "mimetype": "text/x-python",
      "name": "python",
      "nbconvert_exporter": "python",
      "pygments_lexer": "ipython3",
      "version": "3.11.5"
    }
  },
  "nbformat": 4,
  "nbformat_minor": 0
}
