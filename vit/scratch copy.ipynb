{
 "cells": [
  {
   "cell_type": "code",
   "execution_count": 1,
   "metadata": {},
   "outputs": [],
   "source": [
    "import xarray as xr\n",
    "from ocf_blosc2 import Blosc2\n",
    "from tqdm import tqdm\n",
    "%load_ext autoreload\n",
    "%autoreload 2"
   ]
  },
  {
   "cell_type": "code",
   "execution_count": 2,
   "metadata": {},
   "outputs": [],
   "source": [
    "import json\n",
    "with open(\"indices.json\") as f:\n",
    "    site_locations = {\n",
    "        data_source: {\n",
    "            int(site): (int(location[0]), int(location[1]))\n",
    "            for site, location in locations.items()\n",
    "        }\n",
    "        for data_source, locations in json.load(f).items()\n",
    "    }"
   ]
  },
  {
   "cell_type": "code",
   "execution_count": 3,
   "metadata": {},
   "outputs": [],
   "source": [
    "from dataset import ChallengeDataset"
   ]
  },
  {
   "cell_type": "code",
   "execution_count": 4,
   "metadata": {},
   "outputs": [],
   "source": [
    "ds = ChallengeDataset('/data/pv/2021/', '/data/satellite-nonhrv_proc/2021/', \"/data/weather_proc/2021/\", site_locations, None)"
   ]
  },
  {
   "cell_type": "code",
   "execution_count": null,
   "metadata": {},
   "outputs": [],
   "source": [
    "import sys\n",
    "item = ds[0]\n",
    "ctx = 0\n",
    "for i in item:\n",
    "    ctx += i.nbytes\n",
    "print(ctx * len(ds))"
   ]
  },
  {
   "cell_type": "code",
   "execution_count": null,
   "metadata": {},
   "outputs": [],
   "source": [
    "list(ds.open_parquet('/data/pv/2021/1.parquet')) == list(ds.open_parquet('/data/pv/2021/1.parquet').xs(\"2021-01-01 08:00:00\").index)"
   ]
  },
  {
   "cell_type": "code",
   "execution_count": null,
   "metadata": {},
   "outputs": [],
   "source": [
    "len(ds.open_parquet('/data/pv/2021/1.parquet').index)"
   ]
  },
  {
   "cell_type": "code",
   "execution_count": null,
   "metadata": {},
   "outputs": [],
   "source": [
    "for i in range(100):\n",
    "    pv_features, hrv_features, weather_features, extra, pv_targets = ds[i]\n",
    "    print(hrv_features.shape, weather_features.shape)"
   ]
  },
  {
   "cell_type": "code",
   "execution_count": null,
   "metadata": {},
   "outputs": [],
   "source": [
    "del results"
   ]
  },
  {
   "cell_type": "code",
   "execution_count": null,
   "metadata": {},
   "outputs": [],
   "source": [
    "import h5py\n",
    "import numpy as np\n",
    "from datetime import datetime\n",
    "with h5py.File(\"/data/weather_proc/2021/1.hdf5\", \"r\") as hdf_file:\n",
    "    time = np.array(hdf_file['time'])\n",
    "    time = np.array(list(map(lambda x: datetime.utcfromtimestamp(int(x)), time)))\n",
    "    n = np.where((time == datetime(2021, 1, 1, 8, 0)))[0][0]\n",
    "    nth_values = []\n",
    "    SKIP_LIST = set(['latitude', 'longitude', 'time'])\n",
    "    for name, dataset in hdf_file.items():\n",
    "        # Check if the item is a dataset\n",
    "        if name in SKIP_LIST: \n",
    "            continue\n",
    "        print(name)\n",
    "        if isinstance(dataset, h5py.Dataset):\n",
    "            # Fetch the nth value from the dataset\n",
    "            # Ensuring n is within the bounds of the dataset's size\n",
    "            if n < len(dataset):\n",
    "                nth_value = dataset[n]\n",
    "                # Append the nth value as a numpy array\n",
    "                nth_values.append(np.array(nth_value))\n",
    "            else:\n",
    "                # Handle cases where n exceeds dataset size\n",
    "                print(f\"Dataset '{name}' does not have a {n}th value.\")"
   ]
  },
  {
   "cell_type": "code",
   "execution_count": null,
   "metadata": {},
   "outputs": [],
   "source": [
    "x = 100\n",
    "y = 100\n",
    "nth_values[0][y - 64 : y + 64, x - 64 : x + 64].shape"
   ]
  },
  {
   "cell_type": "code",
   "execution_count": null,
   "metadata": {},
   "outputs": [],
   "source": []
  }
 ],
 "metadata": {
  "kernelspec": {
   "display_name": "Python 3",
   "language": "python",
   "name": "python3"
  },
  "language_info": {
   "codemirror_mode": {
    "name": "ipython",
    "version": 3
   },
   "file_extension": ".py",
   "mimetype": "text/x-python",
   "name": "python",
   "nbconvert_exporter": "python",
   "pygments_lexer": "ipython3",
   "version": "3.11.5"
  }
 },
 "nbformat": 4,
 "nbformat_minor": 2
}
