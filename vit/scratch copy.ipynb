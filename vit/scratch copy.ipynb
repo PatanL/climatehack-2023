{
 "cells": [
  {
   "cell_type": "code",
   "execution_count": 1,
   "metadata": {},
   "outputs": [],
   "source": [
    "import xarray as xr\n",
    "from ocf_blosc2 import Blosc2\n",
    "from tqdm import tqdm\n",
    "%load_ext autoreload\n",
    "%autoreload 2"
   ]
  },
  {
   "cell_type": "code",
   "execution_count": 2,
   "metadata": {},
   "outputs": [],
   "source": [
    "import json\n",
    "with open(\"indices.json\") as f:\n",
    "    site_locations = {\n",
    "        data_source: {\n",
    "            int(site): (int(location[0]), int(location[1]))\n",
    "            for site, location in locations.items()\n",
    "        }\n",
    "        for data_source, locations in json.load(f).items()\n",
    "    }"
   ]
  },
  {
   "cell_type": "code",
   "execution_count": 3,
   "metadata": {},
   "outputs": [],
   "source": [
    "from dataset import ChallengeDataset"
   ]
  },
  {
   "cell_type": "code",
   "execution_count": 13,
   "metadata": {},
   "outputs": [],
   "source": [
    "ds = ChallengeDataset('/data/pv/2021/', '/data/satellite-nonhrv_proc/2021/', \"/data/weather_proc/2021/\", site_locations, None)"
   ]
  },
  {
   "cell_type": "code",
   "execution_count": null,
   "metadata": {},
   "outputs": [],
   "source": [
    "import sys\n",
    "item = ds[0]\n",
    "ctx = 0\n",
    "for i in item:\n",
    "    ctx += i.nbytes\n",
    "print(ctx * len(ds))"
   ]
  },
  {
   "cell_type": "code",
   "execution_count": null,
   "metadata": {},
   "outputs": [],
   "source": [
    "list(ds.open_parquet('/data/pv/2021/1.parquet')) == list(ds.open_parquet('/data/pv/2021/1.parquet').xs(\"2021-01-01 08:00:00\").index)"
   ]
  },
  {
   "cell_type": "code",
   "execution_count": null,
   "metadata": {},
   "outputs": [],
   "source": [
    "len(ds.open_parquet('/data/pv/2021/1.parquet').index)"
   ]
  },
  {
   "cell_type": "code",
   "execution_count": 16,
   "metadata": {},
   "outputs": [
    {
     "name": "stdout",
     "output_type": "stream",
     "text": [
      "0\n",
      "setup: 5.8650970458984375e-05\n",
      "pv: 0.0031735897064208984\n",
      "sat: 0.1695842742919922\n",
      "weather: 0.30706214904785156\n",
      "extra: 0.025995492935180664\n",
      "1\n",
      "setup: 5.650520324707031e-05\n",
      "pv: 0.0022182464599609375\n",
      "sat: 0.20744657516479492\n",
      "weather: 0.3857913017272949\n",
      "extra: 0.03159475326538086\n",
      "2\n",
      "setup: 0.0001823902130126953\n",
      "pv: 0.0028166770935058594\n",
      "sat: 0.26079297065734863\n",
      "weather: 0.4702630043029785\n",
      "extra: 0.03655552864074707\n",
      "3\n",
      "setup: 7.653236389160156e-05\n",
      "pv: 0.003307819366455078\n",
      "sat: 0.32673025131225586\n",
      "weather: 0.6261820793151855\n",
      "extra: 0.0472564697265625\n",
      "4\n",
      "setup: 9.465217590332031e-05\n",
      "pv: 0.0042040348052978516\n",
      "sat: 0.3530905246734619\n",
      "weather: 0.5621232986450195\n",
      "extra: 0.0511019229888916\n",
      "5\n",
      "setup: 0.00010132789611816406\n",
      "pv: 0.004682302474975586\n",
      "sat: 0.4124722480773926\n",
      "weather: 0.5733323097229004\n",
      "extra: 0.040421485900878906\n",
      "6\n",
      "setup: 7.987022399902344e-05\n",
      "pv: 0.003549814224243164\n",
      "sat: 0.3013651371002197\n",
      "weather: 0.4867737293243408\n",
      "extra: 0.038237810134887695\n",
      "7\n",
      "setup: 7.891654968261719e-05\n",
      "pv: 0.0033614635467529297\n",
      "sat: 0.29227447509765625\n",
      "weather: 0.4512515068054199\n",
      "extra: 0.033443450927734375\n",
      "8\n",
      "setup: 7.390975952148438e-05\n",
      "pv: 0.003365039825439453\n",
      "sat: 0.2622387409210205\n",
      "weather: 0.42183685302734375\n",
      "extra: 0.03227853775024414\n",
      "9\n",
      "setup: 7.104873657226562e-05\n",
      "pv: 0.0029261112213134766\n",
      "sat: 0.2846100330352783\n",
      "weather: 0.526806116104126\n",
      "extra: 0.0467221736907959\n",
      "10\n",
      "setup: 9.584426879882812e-05\n",
      "pv: 0.0040051937103271484\n",
      "sat: 0.36988234519958496\n",
      "weather: 0.6347677707672119\n",
      "extra: 0.04728198051452637\n",
      "11\n",
      "setup: 0.00010085105895996094\n",
      "pv: 0.004540205001831055\n",
      "sat: 0.3692607879638672\n",
      "weather: 0.5298290252685547\n",
      "extra: 0.03464365005493164\n",
      "12\n",
      "setup: 7.224082946777344e-05\n",
      "setup: 0.0001633167266845703\n",
      "pv: 0.00264739990234375\n",
      "sat: 0.27123212814331055\n",
      "weather: 0.4658656120300293\n",
      "extra: 0.03532719612121582\n",
      "13\n",
      "setup: 7.128715515136719e-05\n",
      "pv: 0.0029997825622558594\n",
      "sat: 0.2766380310058594\n",
      "weather: 0.5072836875915527\n",
      "extra: 0.04149627685546875\n",
      "14\n",
      "setup: 9.465217590332031e-05\n",
      "setup: 7.510185241699219e-05\n",
      "pv: 0.003253459930419922\n",
      "sat: 0.3387460708618164\n",
      "weather: 0.4576857089996338\n",
      "extra: 0.03141307830810547\n",
      "15\n",
      "setup: 6.842613220214844e-05\n",
      "pv: 0.0029006004333496094\n",
      "sat: 0.23545575141906738\n",
      "weather: 0.3569297790527344\n",
      "extra: 0.027375459671020508\n"
     ]
    }
   ],
   "source": [
    "output = []\n",
    "for i in range(16):\n",
    "    print(i)\n",
    "    data = ds[i]\n",
    "    output.append(data)"
   ]
  },
  {
   "cell_type": "code",
   "execution_count": null,
   "metadata": {},
   "outputs": [],
   "source": [
    "del results"
   ]
  },
  {
   "cell_type": "code",
   "execution_count": null,
   "metadata": {},
   "outputs": [],
   "source": [
    "import h5py\n",
    "import numpy as np\n",
    "from datetime import datetime\n",
    "with h5py.File(\"/data/weather_proc/2021/1.hdf5\", \"r\") as hdf_file:\n",
    "    time = np.array(hdf_file['time'])\n",
    "    time = np.array(list(map(lambda x: datetime.utcfromtimestamp(int(x)), time)))\n",
    "    n = np.where((time == datetime(2021, 1, 1, 8, 0)))[0][0]\n",
    "    nth_values = []\n",
    "    SKIP_LIST = set(['latitude', 'longitude', 'time'])\n",
    "    for name, dataset in hdf_file.items():\n",
    "        # Check if the item is a dataset\n",
    "        if name in SKIP_LIST: \n",
    "            continue\n",
    "        print(name)\n",
    "        if isinstance(dataset, h5py.Dataset):\n",
    "            # Fetch the nth value from the dataset\n",
    "            # Ensuring n is within the bounds of the dataset's size\n",
    "            if n < len(dataset):\n",
    "                nth_value = dataset[n]\n",
    "                # Append the nth value as a numpy array\n",
    "                nth_values.append(np.array(nth_value))\n",
    "            else:\n",
    "                # Handle cases where n exceeds dataset size\n",
    "                print(f\"Dataset '{name}' does not have a {n}th value.\")"
   ]
  },
  {
   "cell_type": "code",
   "execution_count": null,
   "metadata": {},
   "outputs": [],
   "source": [
    "x = 100\n",
    "y = 100\n",
    "nth_values[0][y - 64 : y + 64, x - 64 : x + 64].shape"
   ]
  },
  {
   "cell_type": "code",
   "execution_count": null,
   "metadata": {},
   "outputs": [],
   "source": []
  }
 ],
 "metadata": {
  "kernelspec": {
   "display_name": "Python 3",
   "language": "python",
   "name": "python3"
  },
  "language_info": {
   "codemirror_mode": {
    "name": "ipython",
    "version": 3
   },
   "file_extension": ".py",
   "mimetype": "text/x-python",
   "name": "python",
   "nbconvert_exporter": "python",
   "pygments_lexer": "ipython3",
   "version": "3.11.5"
  }
 },
 "nbformat": 4,
 "nbformat_minor": 2
}
