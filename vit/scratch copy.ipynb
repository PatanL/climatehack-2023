{
 "cells": [
  {
   "cell_type": "code",
   "execution_count": 1,
   "metadata": {},
   "outputs": [],
   "source": [
    "import xarray as xr\n",
    "from ocf_blosc2 import Blosc2\n",
    "from tqdm import tqdm\n",
    "%load_ext autoreload\n",
    "from torch.utils.data import DataLoader, IterableDataset\n",
    "%autoreload 2"
   ]
  },
  {
   "cell_type": "code",
   "execution_count": 6,
   "metadata": {},
   "outputs": [
    {
     "name": "stdout",
     "output_type": "stream",
     "text": [
      "Opening file /data/processed_data/processed_train_dev.hdf5.\n",
      "Warming up the dataloader!\n"
     ]
    },
    {
     "name": "stderr",
     "output_type": "stream",
     "text": [
      "100%|█████████████████████████████████████████████████████████████████████████████████████████████████████████████████████████| 100/100 [00:00<00:00, 18777.38it/s]"
     ]
    },
    {
     "name": "stdout",
     "output_type": "stream",
     "text": [
      "train dataset len: 100\n"
     ]
    },
    {
     "name": "stderr",
     "output_type": "stream",
     "text": [
      "\n"
     ]
    }
   ],
   "source": [
    "from dataset import HDF5Dataset\n",
    "dataset = HDF5Dataset(['/data/processed_data/processed_train_dev.hdf5'], \"/data/sat_np/\", \"/data/weather_np/\", True, True, True, True)\n",
    "data_loader = DataLoader(dataset, batch_size=4, pin_memory=True, num_workers=8, shuffle=False)\n",
    "print(f\"train dataset len: {len(dataset)}\")"
   ]
  },
  {
   "cell_type": "code",
   "execution_count": 7,
   "metadata": {},
   "outputs": [
    {
     "name": "stderr",
     "output_type": "stream",
     "text": [
      " 20%|#########################4                                                                                                     | 5/25 [00:04<00:14,  1.38it/s]"
     ]
    },
    {
     "name": "stdout",
     "output_type": "stream",
     "text": [
      "torch.Size([4, 6, 10, 128, 128])\n",
      "torch.Size([4, 6, 10, 128, 128])\n",
      "torch.Size([4, 6, 10, 128, 128])\n",
      "torch.Size([4, 6, 10, 128, 128])\n",
      "torch.Size([4, 6, 10, 128, 128])\n",
      "torch.Size([4, 6, 10, 128, 128])\n",
      "torch.Size([4, 6, 10, 128, 128])\n"
     ]
    },
    {
     "name": "stderr",
     "output_type": "stream",
     "text": [
      " 32%|########################################6                                                                                      | 8/25 [00:04<00:06,  2.44it/s]"
     ]
    },
    {
     "name": "stdout",
     "output_type": "stream",
     "text": [
      "torch.Size([4, 6, 10, 128, 128])\n"
     ]
    },
    {
     "name": "stderr",
     "output_type": "stream",
     "text": [
      " 40%|##################################################4                                                                           | 10/25 [00:06<00:06,  2.21it/s]"
     ]
    },
    {
     "name": "stdout",
     "output_type": "stream",
     "text": [
      "torch.Size([4, 6, 10, 128, 128])\n",
      "torch.Size([4, 6, 10, 128, 128])\n",
      "torch.Size([4, 6, 10, 128, 128])\n",
      "torch.Size([4, 6, 10, 128, 128])\n"
     ]
    },
    {
     "name": "stderr",
     "output_type": "stream",
     "text": [
      " 52%|#################################################################5                                                            | 13/25 [00:06<00:03,  3.20it/s]"
     ]
    },
    {
     "name": "stdout",
     "output_type": "stream",
     "text": [
      "torch.Size([4, 6, 10, 128, 128])\n",
      "torch.Size([4, 6, 10, 128, 128])\n",
      "torch.Size([4, 6, 10, 128, 128])\n",
      "torch.Size([4, 6, 10, 128, 128])\n"
     ]
    },
    {
     "name": "stderr",
     "output_type": "stream",
     "text": [
      " 84%|#########################################################################################################8                    | 21/25 [00:07<00:00,  4.51it/s]"
     ]
    },
    {
     "name": "stdout",
     "output_type": "stream",
     "text": [
      "torch.Size([4, 6, 10, 128, 128])\n",
      "torch.Size([4, 6, 10, 128, 128])\n",
      "torch.Size([4, 6, 10, 128, 128])\n",
      "torch.Size([4, 6, 10, 128, 128])\n",
      "torch.Size([4, 6, 10, 128, 128])\n",
      "torch.Size([4, 6, 10, 128, 128])\n",
      "torch.Size([4, 6, 10, 128, 128])\n",
      "torch.Size([4, 6, 10, 128, 128])\n"
     ]
    },
    {
     "name": "stderr",
     "output_type": "stream",
     "text": [
      "100%|##############################################################################################################################| 25/25 [00:09<00:00,  2.69it/s]"
     ]
    },
    {
     "name": "stdout",
     "output_type": "stream",
     "text": [
      "torch.Size([4, 6, 10, 128, 128])\n"
     ]
    },
    {
     "name": "stderr",
     "output_type": "stream",
     "text": [
      "\n"
     ]
    }
   ],
   "source": [
    "for (pv_features, hrv_features, nwp, extra, pv_targets) in (pbar := tqdm(data_loader, total=len(data_loader), ascii=True)):\n",
    "    print(nwp.shape)"
   ]
  },
  {
   "cell_type": "code",
   "execution_count": null,
   "metadata": {},
   "outputs": [],
   "source": []
  }
 ],
 "metadata": {
  "kernelspec": {
   "display_name": "Python 3 (ipykernel)",
   "language": "python",
   "name": "python3"
  },
  "language_info": {
   "codemirror_mode": {
    "name": "ipython",
    "version": 3
   },
   "file_extension": ".py",
   "mimetype": "text/x-python",
   "name": "python",
   "nbconvert_exporter": "python",
   "pygments_lexer": "ipython3",
   "version": "3.11.5"
  }
 },
 "nbformat": 4,
 "nbformat_minor": 4
}
