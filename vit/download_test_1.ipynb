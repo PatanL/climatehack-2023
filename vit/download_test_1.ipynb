{
 "cells": [
  {
   "cell_type": "code",
   "execution_count": 1,
   "metadata": {},
   "outputs": [
    {
     "name": "stdout",
     "output_type": "stream",
     "text": [
      "Downloading month 1\n"
     ]
    },
    {
     "name": "stderr",
     "output_type": "stream",
     "text": [
      "  % Total    % Received % Xferd  Average Speed   Time    Time     Time  Current\n",
      "                                 Dload  Upload   Total   Spent    Left  Speed\n",
      "100  1128  100  1128    0     0   8679      0 --:--:-- --:--:-- --:--:--  8744\n",
      "100 38.3M  100 38.3M    0     0  60.1M      0 --:--:-- --:--:-- --:--:--  105M\n",
      "  % Total    % Received % Xferd  Average Speed   Time    Time     Time  Current\n",
      "                                 Dload  Upload   Total   Spent    Left  Speed\n",
      "100  1196  100  1196    0     0   8782      0 --:--:-- --:--:-- --:--:--  8794\n",
      "100 2532M  100 2532M    0     0  49.9M      0  0:00:50  0:00:50 --:--:-- 41.8M\n",
      "  % Total    % Received % Xferd  Average Speed   Time    Time     Time  Current\n",
      "                                 Dload  Upload   Total   Spent    Left  Speed\n",
      "100  1120  100  1120    0     0   8957      0 --:--:-- --:--:-- --:--:--  8960\n"
     ]
    },
    {
     "name": "stdout",
     "output_type": "stream",
     "text": [
      "Downloading month 2\n"
     ]
    },
    {
     "name": "stderr",
     "output_type": "stream",
     "text": [
      "100 40.6M  100 40.6M    0     0  25.0M      0  0:00:01  0:00:01 --:--:-- 40.6M\n",
      "  % Total    % Received % Xferd  Average Speed   Time    Time     Time  Current\n",
      "                                 Dload  Upload   Total   Spent    Left  Speed\n",
      "100  1188  100  1188    0     0   8357      0 --:--:-- --:--:-- --:--:--  8425\n",
      "100  107M  100  107M    0     0  29.0M      0  0:00:03  0:00:03 --:--:-- 34.4M\n",
      "  % Total    % Received % Xferd  Average Speed   Time    Time     Time  Current\n",
      "                                 Dload  Upload   Total   Spent    Left  Speed\n",
      "100  1124  100  1124    0     0   7893      0 --:--:-- --:--:-- --:--:--  7915\n"
     ]
    },
    {
     "name": "stdout",
     "output_type": "stream",
     "text": [
      "Downloading month 3\n"
     ]
    },
    {
     "name": "stderr",
     "output_type": "stream",
     "text": [
      "100 53.9M  100 53.9M    0     0  24.8M      0  0:00:02  0:00:02 --:--:-- 35.9M\n",
      "  % Total    % Received % Xferd  Average Speed   Time    Time     Time  Current\n",
      "                                 Dload  Upload   Total   Spent    Left  Speed\n",
      "100  1190  100  1190    0     0   6941      0 --:--:-- --:--:-- --:--:--  6959\n",
      "100 2796M  100 2796M    0     0  39.5M      0  0:01:10  0:01:10 --:--:-- 30.6M\n",
      "  % Total    % Received % Xferd  Average Speed   Time    Time     Time  Current\n",
      "                                 Dload  Upload   Total   Spent    Left  Speed\n",
      "  0     0    0     0    0     0      0      0 --:--:-- --:--:-- --:--:--     0"
     ]
    },
    {
     "name": "stdout",
     "output_type": "stream",
     "text": [
      "Downloading month 4\n"
     ]
    },
    {
     "name": "stderr",
     "output_type": "stream",
     "text": [
      "100  1120  100  1120    0     0   4750      0 --:--:-- --:--:-- --:--:--  4765\n",
      "100 60.4M  100 60.4M    0     0  29.9M      0  0:00:02  0:00:02 --:--:-- 39.4M\n",
      "  % Total    % Received % Xferd  Average Speed   Time    Time     Time  Current\n",
      "                                 Dload  Upload   Total   Spent    Left  Speed\n",
      "100  1198  100  1198    0     0   9422      0 --:--:-- --:--:-- --:--:--  9433\n",
      "100 3391M  100 3391M    0     0  38.0M      0  0:01:29  0:01:29 --:--:-- 35.7M\n",
      "  % Total    % Received % Xferd  Average Speed   Time    Time     Time  Current\n",
      "                                 Dload  Upload   Total   Spent    Left  Speed\n",
      "  0     0    0     0    0     0      0      0 --:--:-- --:--:-- --:--:--     0"
     ]
    },
    {
     "name": "stdout",
     "output_type": "stream",
     "text": [
      "Downloading month 5\n"
     ]
    },
    {
     "name": "stderr",
     "output_type": "stream",
     "text": [
      "100  1124  100  1124    0     0   5797      0 --:--:-- --:--:-- --:--:--  5823\n",
      "100 67.7M  100 67.7M    0     0  59.9M      0  0:00:01  0:00:01 --:--:-- 99.9M\n",
      "  % Total    % Received % Xferd  Average Speed   Time    Time     Time  Current\n",
      "                                 Dload  Upload   Total   Spent    Left  Speed\n",
      "100  1196  100  1196    0     0   3240      0 --:--:-- --:--:-- --:--:--  3241\n",
      "100 3977M  100 3977M    0     0  38.9M      0  0:01:42  0:01:42 --:--:-- 45.6M\n",
      "  % Total    % Received % Xferd  Average Speed   Time    Time     Time  Current\n",
      "                                 Dload  Upload   Total   Spent    Left  Speed\n",
      "100  1116  100  1116    0     0   5950      0 --:--:-- --:--:-- --:--:--  5936\n"
     ]
    },
    {
     "name": "stdout",
     "output_type": "stream",
     "text": [
      "Downloading month 6\n"
     ]
    },
    {
     "name": "stderr",
     "output_type": "stream",
     "text": [
      "100 68.0M  100 68.0M    0     0  26.3M      0  0:00:02  0:00:02 --:--:-- 33.8M\n",
      "  % Total    % Received % Xferd  Average Speed   Time    Time     Time  Current\n",
      "                                 Dload  Upload   Total   Spent    Left  Speed\n",
      "100  1200  100  1200    0     0   8023      0 --:--:-- --:--:-- --:--:--  8053\n",
      "100 3938M  100 3938M    0     0  40.6M      0  0:01:36  0:01:36 --:--:-- 36.3M\n",
      "  % Total    % Received % Xferd  Average Speed   Time    Time     Time  Current\n",
      "                                 Dload  Upload   Total   Spent    Left  Speed\n",
      "100  1120  100  1120    0     0   6663      0 --:--:-- --:--:-- --:--:--  6706\n"
     ]
    },
    {
     "name": "stdout",
     "output_type": "stream",
     "text": [
      "Downloading month 7\n"
     ]
    },
    {
     "name": "stderr",
     "output_type": "stream",
     "text": [
      "100 68.0M  100 68.0M    0     0  28.0M      0  0:00:02  0:00:02 --:--:-- 36.1M\n",
      "  % Total    % Received % Xferd  Average Speed   Time    Time     Time  Current\n",
      "                                 Dload  Upload   Total   Spent    Left  Speed\n",
      "100  1202  100  1202    0     0   7167      0 --:--:-- --:--:-- --:--:--  7197\n",
      "100 4008M  100 4008M    0     0  40.5M      0  0:01:38  0:01:38 --:--:-- 45.3M\n",
      "  % Total    % Received % Xferd  Average Speed   Time    Time     Time  Current\n",
      "                                 Dload  Upload   Total   Spent    Left  Speed\n",
      "  0     0    0     0    0     0      0      0 --:--:-- --:--:-- --:--:--     0"
     ]
    },
    {
     "name": "stdout",
     "output_type": "stream",
     "text": [
      "Downloading month 8\n"
     ]
    },
    {
     "name": "stderr",
     "output_type": "stream",
     "text": [
      "100  1122  100  1122    0     0   5057      0 --:--:-- --:--:-- --:--:--  5054\n",
      "100 61.6M  100 61.6M    0     0  24.7M      0  0:00:02  0:00:02 --:--:-- 39.0M\n",
      "  % Total    % Received % Xferd  Average Speed   Time    Time     Time  Current\n",
      "                                 Dload  Upload   Total   Spent    Left  Speed\n",
      "100  1196  100  1196    0     0   9589      0 --:--:-- --:--:-- --:--:--  9645\n",
      "100 3779M  100 3779M    0     0  40.6M      0  0:01:33  0:01:33 --:--:-- 46.6M\n",
      "  % Total    % Received % Xferd  Average Speed   Time    Time     Time  Current\n",
      "                                 Dload  Upload   Total   Spent    Left  Speed\n",
      "  0     0    0     0    0     0      0      0 --:--:-- --:--:-- --:--:--     0"
     ]
    },
    {
     "name": "stdout",
     "output_type": "stream",
     "text": [
      "Downloading month 9\n"
     ]
    },
    {
     "name": "stderr",
     "output_type": "stream",
     "text": [
      "100  1128  100  1128    0     0   5201      0 --:--:-- --:--:-- --:--:--  5222\n",
      "100 51.2M  100 51.2M    0     0  26.3M      0  0:00:01  0:00:01 --:--:-- 39.2M\n",
      "  % Total    % Received % Xferd  Average Speed   Time    Time     Time  Current\n",
      "                                 Dload  Upload   Total   Spent    Left  Speed\n",
      "100  1206  100  1206    0     0   8104      0 --:--:-- --:--:-- --:--:--  8148\n",
      "100 3163M  100 3163M    0     0  43.0M      0  0:01:13  0:01:13 --:--:-- 45.7M\n",
      "  % Total    % Received % Xferd  Average Speed   Time    Time     Time  Current\n",
      "                                 Dload  Upload   Total   Spent    Left  Speed\n",
      "  0     0    0     0    0     0      0      0 --:--:-- --:--:-- --:--:--     0"
     ]
    },
    {
     "name": "stdout",
     "output_type": "stream",
     "text": [
      "Downloading month 10\n"
     ]
    },
    {
     "name": "stderr",
     "output_type": "stream",
     "text": [
      "100  1116  100  1116    0     0   5370      0 --:--:-- --:--:-- --:--:--  5365\n",
      "100 45.6M  100 45.6M    0     0  26.1M      0  0:00:01  0:00:01 --:--:-- 50.8M\n",
      "  % Total    % Received % Xferd  Average Speed   Time    Time     Time  Current\n",
      "                                 Dload  Upload   Total   Spent    Left  Speed\n",
      "100  1202  100  1202    0     0   8931      0 --:--:-- --:--:-- --:--:--  8970\n",
      "100 2982M  100 2982M    0     0  42.8M      0  0:01:09  0:01:09 --:--:-- 38.1M\n",
      "  % Total    % Received % Xferd  Average Speed   Time    Time     Time  Current\n",
      "                                 Dload  Upload   Total   Spent    Left  Speed\n",
      "  0     0    0     0    0     0      0      0 --:--:-- --:--:-- --:--:--     0"
     ]
    },
    {
     "name": "stdout",
     "output_type": "stream",
     "text": [
      "Downloading month 11\n"
     ]
    },
    {
     "name": "stderr",
     "output_type": "stream",
     "text": [
      "100  1118  100  1118    0     0   5221      0 --:--:-- --:--:-- --:--:--  5248\n",
      "100 11.0M  100 11.0M    0     0  14.0M      0 --:--:-- --:--:-- --:--:-- 64.6M\n",
      "  % Total    % Received % Xferd  Average Speed   Time    Time     Time  Current\n",
      "                                 Dload  Upload   Total   Spent    Left  Speed\n",
      "100  1196  100  1196    0     0   8298      0 --:--:-- --:--:-- --:--:--  8363\n",
      "100  769M  100  769M    0     0  41.7M      0  0:00:18  0:00:18 --:--:-- 45.8M\n",
      "  % Total    % Received % Xferd  Average Speed   Time    Time     Time  Current\n",
      "                                 Dload  Upload   Total   Spent    Left  Speed\n",
      "  0     0    0     0    0     0      0      0 --:--:-- --:--:-- --:--:--     0"
     ]
    },
    {
     "name": "stdout",
     "output_type": "stream",
     "text": [
      "Downloading month 12\n"
     ]
    },
    {
     "name": "stderr",
     "output_type": "stream",
     "text": [
      "100  1122  100  1122    0     0   5564      0 --:--:-- --:--:-- --:--:--  5582\n",
      "100  2905  100  2905    0     0   6003      0 --:--:-- --:--:-- --:--:--  709k\n",
      "  % Total    % Received % Xferd  Average Speed   Time    Time     Time  Current\n",
      "                                 Dload  Upload   Total   Spent    Left  Speed\n",
      "100  1196  100  1196    0     0   9828      0 --:--:-- --:--:-- --:--:--  9884\n",
      "100 2235M  100 2235M    0     0  40.3M      0  0:00:55  0:00:55 --:--:-- 42.1M\n"
     ]
    }
   ],
   "source": [
    "import os\n",
    "\n",
    "for i in range(1, 13):\n",
    "    print(f\"Downloading month {i}\")\n",
    "    os.system(f\"curl -L https://huggingface.co/datasets/climatehackai/climatehackai-2023/resolve/main/pv/2021/{i}.parquet --output data/pv/2021/{i}.parquet\")\n",
    "    os.system(f\"curl -L https://huggingface.co/datasets/climatehackai/climatehackai-2023/resolve/main/satellite-hrv/2021/{i}.zarr.zip --output data/satellite-hrv/2021/{i}.zarr.zip\")"
   ]
  },
  {
   "cell_type": "code",
   "execution_count": null,
   "metadata": {},
   "outputs": [],
   "source": [
    "    "
   ]
  }
 ],
 "metadata": {
  "kernelspec": {
   "display_name": "Python 3",
   "language": "python",
   "name": "python3"
  },
  "language_info": {
   "codemirror_mode": {
    "name": "ipython",
    "version": 3
   },
   "file_extension": ".py",
   "mimetype": "text/x-python",
   "name": "python",
   "nbconvert_exporter": "python",
   "pygments_lexer": "ipython3",
   "version": "3.11.5"
  }
 },
 "nbformat": 4,
 "nbformat_minor": 2
}
