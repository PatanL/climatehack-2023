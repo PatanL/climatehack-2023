{
 "cells": [
  {
   "cell_type": "code",
   "execution_count": 2,
   "metadata": {},
   "outputs": [],
   "source": [
    "import xarray as xr\n",
    "from ocf_blosc2 import Blosc2\n",
    "from tqdm import tqdm"
   ]
  },
  {
   "cell_type": "code",
   "execution_count": 3,
   "metadata": {},
   "outputs": [
    {
     "name": "stderr",
     "output_type": "stream",
     "text": [
      "  0%|          | 0/12 [00:00<?, ?it/s]"
     ]
    },
    {
     "name": "stdout",
     "output_type": "stream",
     "text": [
      "opening dataset\n",
      "filtering\n",
      "chunking\n",
      "writing\n"
     ]
    },
    {
     "name": "stderr",
     "output_type": "stream",
     "text": [
      "  8%|▊         | 1/12 [00:07<01:23,  7.60s/it]"
     ]
    },
    {
     "name": "stdout",
     "output_type": "stream",
     "text": [
      "opening dataset\n",
      "filtering\n",
      "chunking\n",
      "writing\n"
     ]
    },
    {
     "name": "stderr",
     "output_type": "stream",
     "text": [
      " 17%|█▋        | 2/12 [00:19<01:38,  9.85s/it]"
     ]
    },
    {
     "name": "stdout",
     "output_type": "stream",
     "text": [
      "opening dataset\n",
      "filtering\n",
      "chunking\n",
      "writing\n"
     ]
    },
    {
     "name": "stderr",
     "output_type": "stream",
     "text": [
      " 25%|██▌       | 3/12 [00:31<01:37, 10.87s/it]"
     ]
    },
    {
     "name": "stdout",
     "output_type": "stream",
     "text": [
      "opening dataset\n",
      "filtering\n",
      "chunking\n",
      "writing\n"
     ]
    },
    {
     "name": "stderr",
     "output_type": "stream",
     "text": [
      " 33%|███▎      | 4/12 [00:44<01:33, 11.67s/it]"
     ]
    },
    {
     "name": "stdout",
     "output_type": "stream",
     "text": [
      "opening dataset\n",
      "filtering\n",
      "chunking\n",
      "writing\n"
     ]
    },
    {
     "name": "stderr",
     "output_type": "stream",
     "text": [
      " 42%|████▏     | 5/12 [01:10<01:57, 16.85s/it]"
     ]
    },
    {
     "name": "stdout",
     "output_type": "stream",
     "text": [
      "opening dataset\n",
      "filtering\n",
      "chunking\n",
      "writing\n"
     ]
    },
    {
     "name": "stderr",
     "output_type": "stream",
     "text": [
      " 50%|█████     | 6/12 [01:29<01:45, 17.59s/it]"
     ]
    },
    {
     "name": "stdout",
     "output_type": "stream",
     "text": [
      "opening dataset\n",
      "filtering\n",
      "chunking\n",
      "writing\n"
     ]
    },
    {
     "name": "stderr",
     "output_type": "stream",
     "text": [
      " 58%|█████▊    | 7/12 [01:48<01:31, 18.35s/it]"
     ]
    },
    {
     "name": "stdout",
     "output_type": "stream",
     "text": [
      "opening dataset\n",
      "filtering\n",
      "chunking\n",
      "writing\n"
     ]
    },
    {
     "name": "stderr",
     "output_type": "stream",
     "text": [
      " 67%|██████▋   | 8/12 [02:05<01:11, 17.77s/it]"
     ]
    },
    {
     "name": "stdout",
     "output_type": "stream",
     "text": [
      "opening dataset\n",
      "filtering\n",
      "chunking\n",
      "writing\n"
     ]
    },
    {
     "name": "stderr",
     "output_type": "stream",
     "text": [
      " 75%|███████▌  | 9/12 [02:20<00:50, 16.82s/it]"
     ]
    },
    {
     "name": "stdout",
     "output_type": "stream",
     "text": [
      "opening dataset\n",
      "filtering\n",
      "chunking\n",
      "writing\n"
     ]
    },
    {
     "name": "stderr",
     "output_type": "stream",
     "text": [
      " 83%|████████▎ | 10/12 [02:37<00:33, 16.88s/it]"
     ]
    },
    {
     "name": "stdout",
     "output_type": "stream",
     "text": [
      "opening dataset\n",
      "filtering\n",
      "chunking\n",
      "writing\n"
     ]
    },
    {
     "name": "stderr",
     "output_type": "stream",
     "text": [
      " 92%|█████████▏| 11/12 [02:51<00:16, 16.20s/it]"
     ]
    },
    {
     "name": "stdout",
     "output_type": "stream",
     "text": [
      "opening dataset\n",
      "filtering\n",
      "chunking\n",
      "writing\n"
     ]
    },
    {
     "name": "stderr",
     "output_type": "stream",
     "text": [
      "100%|██████████| 12/12 [03:06<00:00, 15.56s/it]\n"
     ]
    }
   ],
   "source": [
    "month_to_times = {\n",
    "    1: (8, 16),\n",
    "    2: (8, 17),\n",
    "    3: (7, 18),\n",
    "    4: (7, 19),\n",
    "    5: (6, 20),\n",
    "    6: (5, 20),\n",
    "    7: (5, 20),\n",
    "    8: (6, 20),\n",
    "    9: (7, 19),\n",
    "    10: (7, 18),\n",
    "    11: (7, 16),\n",
    "    12: (8, 16)\n",
    "}\n",
    "type = \"weather\"\n",
    "NWP_FEATURES = [\"t_500\", \"clcl\", \"alb_rad\", \"tot_prec\", \"ww\", \"relhum_2m\", \"h_snow\", \"aswdir_s\", \"td_2m\", \"omega_1000\"]\n",
    "for month in tqdm(range(1, 12 + 1)):\n",
    "    print('opening dataset')\n",
    "    hrv = xr.open_dataset(\n",
    "        f\"/data/{type}/2021/{month}.zarr.zip\",\n",
    "        engine=\"zarr\",\n",
    "        consolidated=True,\n",
    "        chunks={\"time\": \"auto\"}\n",
    "    )\n",
    "    start, stop = month_to_times[month]\n",
    "    print('filtering')\n",
    "    filtered_dataset_lazy = hrv.where((hrv['time'].dt.hour >= start) & (hrv['time'].dt.hour <= stop), drop=True)\n",
    "    print('chunking')\n",
    "    filtered_dataset_lazy = filtered_dataset_lazy.chunk(\"auto\")\n",
    "    print('writing')\n",
    "    filtered_dataset_lazy = filtered_dataset_lazy[NWP_FEATURES]\n",
    "    filtered_dataset_lazy.to_zarr(f\"/data/{type}_proc/2021/{month}.zarr\")\n",
    "\n"
   ]
  },
  {
   "cell_type": "code",
   "execution_count": null,
   "metadata": {},
   "outputs": [],
   "source": []
  }
 ],
 "metadata": {
  "kernelspec": {
   "display_name": "Python 3",
   "language": "python",
   "name": "python3"
  },
  "language_info": {
   "codemirror_mode": {
    "name": "ipython",
    "version": 3
   },
   "file_extension": ".py",
   "mimetype": "text/x-python",
   "name": "python",
   "nbconvert_exporter": "python",
   "pygments_lexer": "ipython3",
   "version": "3.11.5"
  }
 },
 "nbformat": 4,
 "nbformat_minor": 2
}
