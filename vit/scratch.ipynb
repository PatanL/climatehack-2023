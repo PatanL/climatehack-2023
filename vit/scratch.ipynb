{
 "cells": [
  {
   "cell_type": "code",
   "execution_count": null,
   "metadata": {},
   "outputs": [],
   "source": [
    "import xarray as xr\n",
    "from ocf_blosc2 import Blosc2\n",
    "from tqdm import tqdm\n",
    "import h5py"
   ]
  },
  {
   "cell_type": "code",
   "execution_count": null,
   "metadata": {},
   "outputs": [],
   "source": [
    "month_to_times = {\n",
    "    1: (8, 16),\n",
    "    2: (8, 17),\n",
    "    3: (7, 18),\n",
    "    4: (7, 19),\n",
    "    5: (6, 20),\n",
    "    6: (5, 20),\n",
    "    7: (5, 20),\n",
    "    8: (6, 20),\n",
    "    9: (7, 19),\n",
    "    10: (7, 18),\n",
    "    11: (7, 16),\n",
    "    12: (8, 16)\n",
    "}\n",
    "import h5py\n",
    "import pandas as pd\n",
    "type = \"weather\"\n",
    "NWP_FEATURES = [\"t_500\", \"clcl\", \"alb_rad\", \"tot_prec\", \"ww\", \"relhum_2m\", \"h_snow\", \"aswdir_s\", \"td_2m\", \"omega_1000\"]\n",
    "for month in tqdm(range(1, 12 + 1)):\n",
    "    print('opening dataset')\n",
    "    hrv = xr.open_dataset(\n",
    "        f\"/data/{type}/2021/{month}.zarr.zip\",\n",
    "        engine=\"zarr\",\n",
    "        consolidated=True,\n",
    "        chunks={\"time\": \"auto\"}\n",
    "    )\n",
    "    start, stop = month_to_times[month]\n",
    "    start -= 1 # all data types look backward an hour\n",
    "    if type == \"weather\":\n",
    "        stop += 4 # ONLY FOR WEATHER, since we look forward 4 hrs\n",
    "    print('filtering')\n",
    "    filtered_dataset_lazy = hrv.where((hrv['time'].dt.hour >= start) & (hrv['time'].dt.hour <= stop), drop=True)\n",
    "    print('chunking')\n",
    "    filtered_dataset_lazy = filtered_dataset_lazy.chunk(\"auto\")\n",
    "    print('writing')\n",
    "    filtered_dataset_lazy = filtered_dataset_lazy[NWP_FEATURES]\n",
    "    output_path = f\"/data/{type}_proc/2021/{month}.hdf5\"\n",
    "    with h5py.File(output_path, 'w') as hdf_file:\n",
    "        for var in list(filtered_dataset_lazy.indexes):\n",
    "            print(f\"outputing var {var}\")\n",
    "            data = filtered_dataset_lazy[var].values\n",
    "            if var == 'channel':\n",
    "                continue\n",
    "            if var == \"time\":\n",
    "                # special handling is required\n",
    "                data = list(map(lambda x: pd.to_datetime(x).timestamp(), data))\n",
    "                print(\"number of times:\", len(data))\n",
    "            hdf_file.create_dataset(var, data=data, compression='lzf')\n",
    "        for var in filtered_dataset_lazy.data_vars:\n",
    "            print(f\"outputing var {var}\")\n",
    "            data = filtered_dataset_lazy[var].values\n",
    "            hdf_file.create_dataset(var, data=data, compression='lzf')\n",
    "\n"
   ]
  },
  {
   "cell_type": "code",
   "execution_count": null,
   "metadata": {},
   "outputs": [],
   "source": []
  }
 ],
 "metadata": {
  "kernelspec": {
   "display_name": "Python 3",
   "language": "python",
   "name": "python3"
  },
  "language_info": {
   "codemirror_mode": {
    "name": "ipython",
    "version": 3
   },
   "file_extension": ".py",
   "mimetype": "text/x-python",
   "name": "python",
   "nbconvert_exporter": "python",
   "pygments_lexer": "ipython3",
   "version": "3.11.5"
  }
 },
 "nbformat": 4,
 "nbformat_minor": 2
}
