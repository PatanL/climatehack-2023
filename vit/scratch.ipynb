{
 "cells": [
  {
   "cell_type": "code",
   "execution_count": 1,
   "metadata": {},
   "outputs": [],
   "source": [
    "import xarray as xr\n",
    "from ocf_blosc2 import Blosc2\n",
    "from tqdm import tqdm\n",
    "import h5py\n",
    "from datetime import datetime, timedelta\n",
    "import pandas as pd"
   ]
  },
  {
   "cell_type": "code",
   "execution_count": 23,
   "metadata": {},
   "outputs": [
    {
     "name": "stderr",
     "output_type": "stream",
     "text": [
      "  0%|          | 0/1 [00:00<?, ?it/s]"
     ]
    },
    {
     "name": "stdout",
     "output_type": "stream",
     "text": [
      "opening dataset\n"
     ]
    },
    {
     "name": "stdout",
     "output_type": "stream",
     "text": [
      "opening pv data parquet\n",
      "Index(['power'], dtype='object')\n",
      "filtering\n",
      "<xarray.DataArray 'time' (time: 3688)> Size: 30kB\n",
      "array(['2021-01-01T07:00:00.000000000', '2021-01-01T07:05:00.000000000',\n",
      "       '2021-01-01T07:10:00.000000000', ..., '2021-01-31T16:45:00.000000000',\n",
      "       '2021-01-31T16:50:00.000000000', '2021-01-31T16:55:00.000000000'],\n",
      "      dtype='datetime64[ns]')\n",
      "Coordinates:\n",
      "  * time     (time) datetime64[ns] 30kB 2021-01-01T07:00:00 ... 2021-01-31T16...\n"
     ]
    },
    {
     "name": "stderr",
     "output_type": "stream",
     "text": [
      "100%|██████████| 3688/3688 [00:15<00:00, 242.25it/s]\n",
      "  0%|          | 0/1 [00:20<?, ?it/s]"
     ]
    },
    {
     "name": "stdout",
     "output_type": "stream",
     "text": [
      "chunking after filtering 277\n",
      "<xarray.DataArray 'time' (time: 0)> Size: 0B\n",
      "array([], dtype='datetime64[ns]')\n",
      "Coordinates:\n",
      "  * time     (time) datetime64[ns] 0B \n",
      "writing\n"
     ]
    },
    {
     "name": "stderr",
     "output_type": "stream",
     "text": [
      "\n"
     ]
    }
   ],
   "source": [
    "month_to_times = {\n",
    "    1: (8, 16),\n",
    "    2: (8, 17),\n",
    "    3: (7, 18),\n",
    "    4: (7, 19),\n",
    "    5: (6, 20),\n",
    "    6: (5, 20),\n",
    "    7: (5, 20),\n",
    "    8: (6, 20),\n",
    "    9: (7, 19),\n",
    "    10: (7, 18),\n",
    "    11: (7, 16),\n",
    "    12: (8, 16)\n",
    "}\n",
    "import h5py\n",
    "import pandas as pd\n",
    "type = \"satellite-nonhrv\"\n",
    "NWP_FEATURES = [\"t_500\", \"clcl\", \"alb_rad\", \"tot_prec\", \"ww\", \"relhum_2m\", \"h_snow\", \"aswdir_s\", \"td_2m\", \"omega_1000\"]\n",
    "for month in tqdm(range(1, 2)):\n",
    "    print('opening dataset')\n",
    "    hrv = xr.open_dataset(\n",
    "        f\"/data/{type}/2021/{month}.zarr.zip\",\n",
    "        engine=\"zarr\",\n",
    "        consolidated=True,\n",
    "        chunks={\"time\": \"auto\"}\n",
    "    )\n",
    "    print('opening pv data parquet')\n",
    "    try:\n",
    "        df = pd.read_parquet(f\"/data/pv/2021/{month}.parquet\",).drop(\"generation_wh\", axis=1)\n",
    "    except KeyError:\n",
    "         df = pd.read_parquet(f\"/data/pv/2021/{month}.parquet\",)\n",
    "    print(df.keys())\n",
    "    start, stop = month_to_times[month]\n",
    "    start -= 1 # all data types look backward an hour\n",
    "    if type == \"weather\":\n",
    "        stop += 4 # ONLY FOR WEATHER, since we look forward 4 hrs\n",
    "    print('filtering')\n",
    "    filtered_dataset_lazy = hrv.where((hrv['time'].dt.hour >= start) & (hrv['time'].dt.hour <= stop), drop=True)\n",
    "    # we should check to see that each timestep has the data we need\n",
    "    filter_count = 0\n",
    "    if type == \"weather\":\n",
    "        for time in tqdm(filtered_dataset_lazy['time']):\n",
    "                if time.dt.hour < start + 1 or time.dt.hour > stop - 4:\n",
    "                    continue\n",
    "                time = pd.to_datetime(time.values)\n",
    "                check = filtered_dataset_lazy.sel(time=slice(str(time - timedelta(hours=1)), str(time + timedelta(hours=4)))).sizes['time']\n",
    "                if check != 6:\n",
    "                    df = df.drop(str(time), level='timestamp')\n",
    "                    filter_count += 1\n",
    "    elif type == \"satellite-nonhrv\":\n",
    "        print(filtered_dataset_lazy['time'])\n",
    "        for time in tqdm(filtered_dataset_lazy['time']):\n",
    "                if time.dt.hour < start + 1:\n",
    "                    continue\n",
    "                if time.dt.minute != 0:\n",
    "                    continue\n",
    "                time = pd.to_datetime(time.values)\n",
    "                check = filtered_dataset_lazy.sel(time=slice(str(time - timedelta(hours=1)), str(time - timedelta(minutes=55))))\n",
    "                r = check.sizes['time']\n",
    "                if r != 12:\n",
    "                    filtered_dataset_lazy = filtered_dataset_lazy.where((hrv['time'] == str(time)), drop=True)\n",
    "                    filter_count += 1\n",
    "    print(f'chunking after filtering {filter_count}')\n",
    "    filtered_dataset_lazy = filtered_dataset_lazy.chunk(\"auto\")\n",
    "    print(filtered_dataset_lazy['time'])\n",
    "    print('writing')\n",
    "    break\n",
    "    filtered_dataset_lazy = filtered_dataset_lazy[NWP_FEATURES]\n",
    "    output_path = f\"/data/{type}_proc/2021/{month}.hdf5\"\n",
    "    with h5py.File(output_path, 'w') as hdf_file:\n",
    "        for var in list(filtered_dataset_lazy.indexes):\n",
    "            print(f\"outputing var {var}\")\n",
    "            data = filtered_dataset_lazy[var].values\n",
    "            if var == 'channel':\n",
    "                continue\n",
    "            if var == \"time\":\n",
    "                # special handling is required\n",
    "                data = list(map(lambda x: pd.to_datetime(x).timestamp(), data))\n",
    "                print(\"number of times:\", len(data))\n",
    "            hdf_file.create_dataset(var, data=data, compression='lzf')\n",
    "        for var in filtered_dataset_lazy.data_vars:\n",
    "            print(f\"outputing var {var}\")\n",
    "            data = filtered_dataset_lazy[var].values\n",
    "            hdf_file.create_dataset(var, data=data, compression='lzf')\n",
    "    df.to_parquet(f\"/data/pv/2021/{month}.parquet\")\n",
    "\n"
   ]
  },
  {
   "cell_type": "code",
   "execution_count": null,
   "metadata": {},
   "outputs": [],
   "source": []
  }
 ],
 "metadata": {
  "kernelspec": {
   "display_name": "Python 3",
   "language": "python",
   "name": "python3"
  },
  "language_info": {
   "codemirror_mode": {
    "name": "ipython",
    "version": 3
   },
   "file_extension": ".py",
   "mimetype": "text/x-python",
   "name": "python",
   "nbconvert_exporter": "python",
   "pygments_lexer": "ipython3",
   "version": "3.11.5"
  }
 },
 "nbformat": 4,
 "nbformat_minor": 2
}
