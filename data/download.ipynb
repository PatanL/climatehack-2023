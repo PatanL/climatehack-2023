{
 "cells": [
  {
   "cell_type": "code",
   "execution_count": 1,
   "metadata": {},
   "outputs": [
    {
     "name": "stdout",
     "output_type": "stream",
     "text": [
      "Downloading month 8\n"
     ]
    },
    {
     "name": "stderr",
     "output_type": "stream",
     "text": [
      "  % Total    % Received % Xferd  Average Speed   Time    Time     Time  Current\n",
      "                                 Dload  Upload   Total   Spent    Left  Speed\n",
      "100  1120  100  1120    0     0   5267      0 --:--:-- --:--:-- --:--:--  5258\n",
      "100 67.5M  100 67.5M    0     0  66.1M      0  0:00:01  0:00:01 --:--:-- 66.1M\n",
      "  % Total    % Received % Xferd  Average Speed   Time    Time     Time  Current\n",
      "                                 Dload  Upload   Total   Spent    Left  Speed\n",
      "100  1192  100  1192    0     0   8903      0 --:--:-- --:--:-- --:--:--  8962\n",
      "100 3782M  100 3782M    0     0  51.2M      0  0:01:13  0:01:13 --:--:-- 46.0M\n"
     ]
    },
    {
     "name": "stdout",
     "output_type": "stream",
     "text": [
      "Downloading month 9\n"
     ]
    },
    {
     "name": "stderr",
     "output_type": "stream",
     "text": [
      "  % Total    % Received % Xferd  Average Speed   Time    Time     Time  Current\n",
      "                                 Dload  Upload   Total   Spent    Left  Speed\n",
      "100  1120  100  1120    0     0   5713      0 --:--:-- --:--:-- --:--:--  5743\n",
      "100 56.9M  100 56.9M    0     0  33.9M      0  0:00:01  0:00:01 --:--:-- 47.2M\n",
      "  % Total    % Received % Xferd  Average Speed   Time    Time     Time  Current\n",
      "                                 Dload  Upload   Total   Spent    Left  Speed\n",
      "100  1198  100  1198    0     0   9307      0 --:--:-- --:--:-- --:--:--  9286\n",
      " 70 3138M   70 2227M    0     0  41.9M      0  0:01:14  0:00:53  0:00:21 39.9M"
     ]
    }
   ],
   "source": [
    "import os\n",
    "\n",
    "for i in range(8, 13):\n",
    "    print(f\"Downloading month {i}\")\n",
    "    os.system(f\"curl -L https://huggingface.co/datasets/climatehackai/climatehackai-2023/resolve/main/pv/2020/{i}.parquet --output data/pv/2020/{i}.parquet\")\n",
    "    os.system(f\"curl -L https://huggingface.co/datasets/climatehackai/climatehackai-2023/resolve/main/satellite-hrv/2020/{i}.zarr.zip --output data/satellite-hrv/2020/{i}.zarr.zip\")"
   ]
  },
  {
   "cell_type": "code",
   "execution_count": null,
   "metadata": {},
   "outputs": [],
   "source": [
    "    "
   ]
  }
 ],
 "metadata": {
  "kernelspec": {
   "display_name": "Python 3",
   "language": "python",
   "name": "python3"
  },
  "language_info": {
   "codemirror_mode": {
    "name": "ipython",
    "version": 3
   },
   "file_extension": ".py",
   "mimetype": "text/x-python",
   "name": "python",
   "nbconvert_exporter": "python",
   "pygments_lexer": "ipython3",
   "version": "3.11.5"
  }
 },
 "nbformat": 4,
 "nbformat_minor": 2
}
